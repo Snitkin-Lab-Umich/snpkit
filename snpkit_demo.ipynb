{
 "cells": [
  {
   "cell_type": "markdown",
   "id": "55da4423-a34f-4739-82cd-46ee905a490e",
   "metadata": {},
   "source": [
    "## An interactive demo showing how to run SNPKIT "
   ]
  },
  {
   "cell_type": "markdown",
   "id": "47f9350d-54b4-4994-8799-7d32ad3766f6",
   "metadata": {},
   "source": [
    "### Download data for a research study that performed regional outbreak analysis of bla-KPC Klebsiella pneumoniae and discern the role of patient transfer in regional spread.\n",
    "\n",
    "- The research was published in [Science Translational Medicine](https://www.science.org/doi/10.1126/scitranslmed.aan0093)\n",
    "- The Bioproject associated with this study is PRJNA355241"
   ]
  },
  {
   "cell_type": "code",
   "execution_count": 5,
   "id": "ce8e1692-9fd6-4664-a4c6-1635a502002e",
   "metadata": {
    "scrolled": true,
    "tags": []
   },
   "outputs": [
    {
     "name": "stdout",
     "output_type": "stream",
     "text": [
      "Collecting package metadata (current_repodata.json): done\n",
      "Solving environment: failed with repodata from current_repodata.json, will retry with next repodata source.\n",
      "Collecting package metadata (repodata.json): done\n",
      "Solving environment: done\n",
      "\n",
      "\n",
      "==> WARNING: A newer version of conda exists. <==\n",
      "  current version: 4.10.1\n",
      "  latest version: 4.11.0\n",
      "\n",
      "Please update conda by running\n",
      "\n",
      "    $ conda update -n base -c defaults conda\n",
      "\n",
      "\n",
      "\n",
      "## Package Plan ##\n",
      "\n",
      "  environment location: /home/apirani/.conda/envs/sratools\n",
      "\n",
      "  added / updated specs:\n",
      "    - entrez-direct\n",
      "    - sra-tools=2.10.0\n",
      "\n",
      "\n",
      "The following NEW packages will be INSTALLED:\n",
      "\n",
      "  _libgcc_mutex      pkgs/main/linux-64::_libgcc_mutex-0.1-main\n",
      "  _openmp_mutex      pkgs/main/linux-64::_openmp_mutex-4.5-1_gnu\n",
      "  entrez-direct      bioconda/linux-64::entrez-direct-16.2-he881be0_0\n",
      "  icu                pkgs/main/linux-64::icu-58.2-he6710b0_3\n",
      "  libgcc-ng          pkgs/main/linux-64::libgcc-ng-9.3.0-h5101ec6_17\n",
      "  libgomp            pkgs/main/linux-64::libgomp-9.3.0-h5101ec6_17\n",
      "  libiconv           pkgs/main/linux-64::libiconv-1.15-h63c8f33_5\n",
      "  libstdcxx-ng       pkgs/main/linux-64::libstdcxx-ng-9.3.0-hd4cf53a_17\n",
      "  libxml2            pkgs/main/linux-64::libxml2-2.9.12-h03d6c58_0\n",
      "  ncbi-ngs-sdk       bioconda/linux-64::ncbi-ngs-sdk-2.10.4-hdf6179e_0\n",
      "  perl               pkgs/main/linux-64::perl-5.26.2-h14c3975_0\n",
      "  perl-app-cpanminus bioconda/linux-64::perl-app-cpanminus-1.7044-pl526_1\n",
      "  perl-business-isbn bioconda/linux-64::perl-business-isbn-3.004-pl526_0\n",
      "  perl-business-isb~ bioconda/linux-64::perl-business-isbn-data-20140910.003-pl526_0\n",
      "  perl-carp          bioconda/linux-64::perl-carp-1.38-pl526_3\n",
      "  perl-constant      bioconda/linux-64::perl-constant-1.33-pl526_1\n",
      "  perl-data-dumper   bioconda/linux-64::perl-data-dumper-2.173-pl526_0\n",
      "  perl-encode        bioconda/linux-64::perl-encode-2.88-pl526_1\n",
      "  perl-exporter      bioconda/linux-64::perl-exporter-5.72-pl526_1\n",
      "  perl-extutils-mak~ bioconda/linux-64::perl-extutils-makemaker-7.36-pl526_1\n",
      "  perl-file-path     bioconda/linux-64::perl-file-path-2.16-pl526_0\n",
      "  perl-file-temp     bioconda/linux-64::perl-file-temp-0.2304-pl526_2\n",
      "  perl-mime-base64   bioconda/linux-64::perl-mime-base64-3.15-pl526_1\n",
      "  perl-parent        bioconda/linux-64::perl-parent-0.236-pl526_1\n",
      "  perl-uri           bioconda/linux-64::perl-uri-1.76-pl526_0\n",
      "  perl-xml-libxml    bioconda/linux-64::perl-xml-libxml-2.0132-pl526h7ec2d77_1\n",
      "  perl-xml-namespac~ bioconda/linux-64::perl-xml-namespacesupport-1.12-pl526_0\n",
      "  perl-xml-sax       bioconda/noarch::perl-xml-sax-1.02-pl526_0\n",
      "  perl-xml-sax-base  bioconda/linux-64::perl-xml-sax-base-1.09-pl526_0\n",
      "  perl-xsloader      bioconda/linux-64::perl-xsloader-0.24-pl526_0\n",
      "  sra-tools          bioconda/linux-64::sra-tools-2.10.0-pl526he1b5a44_0\n",
      "  xz                 pkgs/main/linux-64::xz-5.2.5-h7b6447c_0\n",
      "  zlib               pkgs/main/linux-64::zlib-1.2.11-h7f8727e_4\n",
      "\n",
      "\n",
      "Preparing transaction: done\n",
      "Verifying transaction: done\n",
      "Executing transaction: done\n",
      "#\n",
      "# To activate this environment, use\n",
      "#\n",
      "#     $ conda activate sratools\n",
      "#\n",
      "# To deactivate an active environment, use\n",
      "#\n",
      "#     $ conda deactivate\n",
      "\n"
     ]
    }
   ],
   "source": [
    "conda create -y -n sratools -c bioconda sra-tools=2.10.0 entrez-direct"
   ]
  },
  {
   "cell_type": "code",
   "execution_count": 1,
   "id": "7e30f27f-ea0d-4790-8adf-fe8b436c2328",
   "metadata": {},
   "outputs": [
    {
     "name": "stdout",
     "output_type": "stream",
     "text": [
      "(sratools) "
     ]
    },
    {
     "ename": "",
     "evalue": "1",
     "output_type": "error",
     "traceback": []
    }
   ],
   "source": [
    "conda activate sratools"
   ]
  },
  {
   "cell_type": "code",
   "execution_count": 3,
   "id": "aaad32f3-8146-46e5-8105-c90bb7a506aa",
   "metadata": {},
   "outputs": [
    {
     "name": "stdout",
     "output_type": "stream",
     "text": [
      "(sratools) "
     ]
    },
    {
     "ename": "",
     "evalue": "1",
     "output_type": "error",
     "traceback": []
    }
   ],
   "source": [
    "mkdir snpkit_demo"
   ]
  },
  {
   "cell_type": "code",
   "execution_count": null,
   "id": "31a4c829-3e44-4f69-b2ad-b97c4fc3cf25",
   "metadata": {},
   "outputs": [],
   "source": [
    "cd snpkit_demo"
   ]
  },
  {
   "cell_type": "code",
   "execution_count": null,
   "id": "7b3d31ec-e4eb-418f-9445-06a11a734ffb",
   "metadata": {},
   "outputs": [],
   "source": [
    "esearch -db sra -query PRJNA355241 | esummary | xtract -pattern DocumentSummary -element Experiment@acc,Run@acc,Platform@instrument_model,Sample@acc | cut -f2 | parallel fasterq-dump {}"
   ]
  },
  {
   "cell_type": "markdown",
   "id": "9ab40d4c-4755-4e74-9f85-9c6a6ccb1bba",
   "metadata": {},
   "source": [
    "### Install snpkit and set up snpkit conda environment"
   ]
  },
  {
   "cell_type": "code",
   "execution_count": null,
   "id": "337e7d41-504e-45db-8c47-e6def605b77e",
   "metadata": {},
   "outputs": [],
   "source": [
    "git clone https://github.com/alipirani88/snpkit.git"
   ]
  },
  {
   "cell_type": "code",
   "execution_count": 15,
   "id": "0a4c0046-0456-4bc5-83ab-c302d96a0e4b",
   "metadata": {},
   "outputs": [
    {
     "name": "stdout",
     "output_type": "stream",
     "text": [
      "Collecting package metadata (repodata.json): done\n",
      "Solving environment: done\n",
      "\n",
      "\n",
      "==> WARNING: A newer version of conda exists. <==\n",
      "  current version: 4.10.1\n",
      "  latest version: 4.11.0\n",
      "\n",
      "Please update conda by running\n",
      "\n",
      "    $ conda update -n base -c defaults conda\n",
      "\n",
      "\n",
      "\n",
      "Downloading and Extracting Packages\n",
      "_libgcc_mutex-0.1    | 2 KB      | ##################################### | 100% \n",
      "wheel-0.33.6         | 35 KB     | ##################################### | 100% \n",
      "Preparing transaction: done\n",
      "Verifying transaction: done\n",
      "Executing transaction: done\n",
      "#\n",
      "# To activate this environment, use\n",
      "#\n",
      "#     $ conda activate snpkit\n",
      "#\n",
      "# To deactivate an active environment, use\n",
      "#\n",
      "#     $ conda deactivate\n",
      "\n"
     ]
    }
   ],
   "source": [
    "conda env create -f snpkit/envs/environment.yml -n snpkit"
   ]
  },
  {
   "cell_type": "code",
   "execution_count": 16,
   "id": "b9ab9554-46bd-442a-9314-25ee92f4fded",
   "metadata": {},
   "outputs": [
    {
     "name": "stdout",
     "output_type": "stream",
     "text": [
      "Collecting package metadata (repodata.json): done\n",
      "Solving environment: done\n",
      "\n",
      "\n",
      "==> WARNING: A newer version of conda exists. <==\n",
      "  current version: 4.10.1\n",
      "  latest version: 4.11.0\n",
      "\n",
      "Please update conda by running\n",
      "\n",
      "    $ conda update -n base -c defaults conda\n",
      "\n",
      "\n",
      "\n",
      "Downloading and Extracting Packages\n",
      "wheel-0.33.6         | 35 KB     | ##################################### | 100% \n",
      "nose-1.3.7           | 213 KB    | ##################################### | 100% \n",
      "six-1.13.0           | 22 KB     | ##################################### | 100% \n",
      "pip-19.3.1           | 1.9 MB    | ##################################### | 100% \n",
      "certifi-2019.9.11    | 147 KB    | ##################################### | 100% \n",
      "setuptools-41.6.0    | 634 KB    | ##################################### | 100% \n",
      "Preparing transaction: done\n",
      "Verifying transaction: done\n",
      "Executing transaction: done\n",
      "#\n",
      "# To activate this environment, use\n",
      "#\n",
      "#     $ conda activate gubbins\n",
      "#\n",
      "# To deactivate an active environment, use\n",
      "#\n",
      "#     $ conda deactivate\n",
      "\n"
     ]
    }
   ],
   "source": [
    "conda env create -f snpkit/envs/environment_gubbins.yml -n gubbins"
   ]
  },
  {
   "cell_type": "code",
   "execution_count": 18,
   "id": "cfe2594f-8816-4815-b899-810a0d1e761f",
   "metadata": {},
   "outputs": [
    {
     "name": "stdout",
     "output_type": "stream",
     "text": [
      "(base) "
     ]
    },
    {
     "ename": "",
     "evalue": "1",
     "output_type": "error",
     "traceback": []
    }
   ],
   "source": [
    "conda deactivate"
   ]
  },
  {
   "cell_type": "code",
   "execution_count": 19,
   "id": "1559af14-612b-4016-b900-e24ab5d93308",
   "metadata": {},
   "outputs": [
    {
     "name": "stdout",
     "output_type": "stream",
     "text": [
      "(snpkit) "
     ]
    },
    {
     "ename": "",
     "evalue": "1",
     "output_type": "error",
     "traceback": []
    }
   ],
   "source": [
    "conda activate snpkit"
   ]
  },
  {
   "cell_type": "code",
   "execution_count": 20,
   "id": "84d01bc5-cc09-424a-8fe3-f0dcee4f92eb",
   "metadata": {},
   "outputs": [
    {
     "name": "stdout",
     "output_type": "stream",
     "text": [
      "usage: variant_call.py [-h] -type TYPE -readsdir DIR -outdir OUTPUT_FOLDER\n",
      "                       -index INDEX [-steps STEPS] -analysis ANALYSIS_NAME\n",
      "                       [-gubbins_env GUBBINS_ENV] [-config CONFIG]\n",
      "                       [-suffix SUFFIX] [-filenames FILENAMES]\n",
      "                       [-cluster CLUSTER] [-clean]\n",
      "                       [-extract_unmapped EXTRACT_UNMAPPED] [-datadir DATADIR]\n",
      "                       [-snpeff_db SNPEFF_DB] [-debug_mode DEBUG_MODE]\n",
      "                       [-gubbins GUBBINS] [-outgroup OUTGROUP]\n",
      "                       [-downsample DOWNSAMPLE]\n",
      "                       [-coverage_depth COVERAGE_DEPTH]\n",
      "                       [-genomesize GENOMESIZE] [-scheduler SCHEDULER]\n",
      "                       [-dryrun] [-mask] [-clip]\n",
      "\n",
      "Variant Calling pipeline for Illumina PE/SE data.\n",
      "\n",
      "optional arguments:\n",
      "  -h, --help            show this help message and exit\n",
      "\n",
      "Required arguments:\n",
      "  -type TYPE            Type of reads: SE or PE\n",
      "  -readsdir DIR         Path to Sequencing Reads Data directory. NOTE: Provide full/absolute path.\n",
      "  -outdir OUTPUT_FOLDER\n",
      "                        Output Folder Path ending with output directory name to save the results. Creates a new output directory path if it doesn't exist. NOTE: Provide full/absolute path.\n",
      "  -index INDEX          Reference Index Name. Most Frequently used reference genomes index options: KPNIH1 | MRSA_USA_300 | MRSA_USA_100 | CDIFF_630 | paris Make sure the paths are properly set in config file\n",
      "  -steps STEPS          Variant Calling Steps in sequential order.\n",
      "                        1.   All: Run all variant calling  steps starting from trimming the reads, mapping, post-processing the alignments and calling variants;\n",
      "                        2.   core_All: Extract core snps and generate different types of alignments, SNP/Indel Matrices and diagnostics plots.\n",
      "  -analysis ANALYSIS_NAME\n",
      "                        Unique analysis name that will be used as prefix to saving results and log files.\n",
      "\n",
      "Optional arguments:\n",
      "  -gubbins_env GUBBINS_ENV\n",
      "                        Name of the Gubbins Raxml Iqtree environment to load for Phylogenetic analysis\n",
      "  -config CONFIG        Path to Config file, Make sure to check config settings before running pipeline\n",
      "  -suffix SUFFIX        Fastq reads suffix such as fastq, fastq.gz, fq.gz, fq; Default: fastq.gz\n",
      "  -filenames FILENAMES  fastq filenames with one single-end filename per line. \n",
      "                        If the type is set to PE, it will detect the second paired-end filename with the suffix from first filename. \n",
      "                        Useful for running variant calling pipeline on selected files in a reads directory or extracting core snps for selected samples in input reads directory. \n",
      "                        Otherwise the pipeline will consider all the samples available in reads directory.\n",
      "  -cluster CLUSTER      Run variant calling pipeline in local or cluster mode.\n",
      "                        Default: local.\n",
      "                        Set your specific hpc cluster parameters in config file under the [scheduler] section. Supports PBS/SLURM scheduling system.\n",
      "  -clean                clean up intermediate files. Default: ON\n",
      "  -extract_unmapped EXTRACT_UNMAPPED\n",
      "                        Extract unmapped reads, assemble it and detect AMR genes using ariba\n",
      "  -datadir DATADIR      Path to snpEff data directory\n",
      "  -snpeff_db SNPEFF_DB  Name of pre-build snpEff database to use for Annotation\n",
      "  -debug_mode DEBUG_MODE\n",
      "                        yes/no for debug mode\n",
      "  -gubbins GUBBINS      yes/no for running gubbins\n",
      "  -outgroup OUTGROUP    outgroup sample name\n",
      "  -downsample DOWNSAMPLE\n",
      "                        yes/no: Downsample Reads data to default depth of 100X or user specified depth\n",
      "  -coverage_depth COVERAGE_DEPTH\n",
      "                        Downsample Reads to this user specified depth\n",
      "  -genomesize GENOMESIZE\n",
      "                        Genome size to calculate raw coverage\n",
      "  -scheduler SCHEDULER  Type of Scheduler for generating cluster jobs: PBS, SLURM, LOCAL\n",
      "  -dryrun, --dryrun     Perform a trial run without submitting cluster jobs\n",
      "  -mask                 Mask Gubbins detected recombinant region in WGA and run Iqtree on masked alignment\n",
      "  -clip                 Filter SAM file for soft and hard clipped alignments. Default: OFF\n",
      "(snpkit) "
     ]
    },
    {
     "ename": "",
     "evalue": "1",
     "output_type": "error",
     "traceback": []
    }
   ],
   "source": [
    "python snpkit/variant_call.py -h"
   ]
  },
  {
   "cell_type": "code",
   "execution_count": null,
   "id": "a31d61a9-54d0-48e6-9dd6-ede7500c42ab",
   "metadata": {},
   "outputs": [],
   "source": []
  }
 ],
 "metadata": {
  "kernelspec": {
   "display_name": "Bash",
   "language": "bash",
   "name": "bash"
  },
  "language_info": {
   "codemirror_mode": "shell",
   "file_extension": ".sh",
   "mimetype": "text/x-sh",
   "name": "bash"
  }
 },
 "nbformat": 4,
 "nbformat_minor": 5
}
