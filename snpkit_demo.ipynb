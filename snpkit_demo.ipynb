{
 "cells": [
  {
   "cell_type": "markdown",
   "id": "55da4423-a34f-4739-82cd-46ee905a490e",
   "metadata": {},
   "source": [
    "## An interactive demo showing how to run SNPKIT "
   ]
  },
  {
   "cell_type": "markdown",
   "id": "47f9350d-54b4-4994-8799-7d32ad3766f6",
   "metadata": {},
   "source": [
    "### Download data for a research study that performed regional outbreak analysis of bla-KPC Klebsiella pneumoniae and discern the role of patient transfer in regional spread.\n",
    "\n",
    "- The research was published in [Science Translational Medicine](https://www.science.org/doi/10.1126/scitranslmed.aan0093)\n",
    "- The Bioproject associated with this study is PRJNA355241\n",
    "\n",
    "#### Create sratools conda environemnet to download Bioproject data"
   ]
  },
  {
   "cell_type": "code",
   "execution_count": 5,
   "id": "ce8e1692-9fd6-4664-a4c6-1635a502002e",
   "metadata": {
    "scrolled": true,
    "tags": []
   },
   "outputs": [
    {
     "name": "stdout",
     "output_type": "stream",
     "text": [
      "Collecting package metadata (current_repodata.json): done\n",
      "Solving environment: failed with repodata from current_repodata.json, will retry with next repodata source.\n",
      "Collecting package metadata (repodata.json): done\n",
      "Solving environment: done\n",
      "\n",
      "\n",
      "==> WARNING: A newer version of conda exists. <==\n",
      "  current version: 4.10.1\n",
      "  latest version: 4.11.0\n",
      "\n",
      "Please update conda by running\n",
      "\n",
      "    $ conda update -n base -c defaults conda\n",
      "\n",
      "\n",
      "\n",
      "## Package Plan ##\n",
      "\n",
      "  environment location: /home/apirani/.conda/envs/sratools\n",
      "\n",
      "  added / updated specs:\n",
      "    - entrez-direct\n",
      "    - sra-tools=2.10.0\n",
      "\n",
      "\n",
      "The following NEW packages will be INSTALLED:\n",
      "\n",
      "  _libgcc_mutex      pkgs/main/linux-64::_libgcc_mutex-0.1-main\n",
      "  _openmp_mutex      pkgs/main/linux-64::_openmp_mutex-4.5-1_gnu\n",
      "  entrez-direct      bioconda/linux-64::entrez-direct-16.2-he881be0_0\n",
      "  icu                pkgs/main/linux-64::icu-58.2-he6710b0_3\n",
      "  libgcc-ng          pkgs/main/linux-64::libgcc-ng-9.3.0-h5101ec6_17\n",
      "  libgomp            pkgs/main/linux-64::libgomp-9.3.0-h5101ec6_17\n",
      "  libiconv           pkgs/main/linux-64::libiconv-1.15-h63c8f33_5\n",
      "  libstdcxx-ng       pkgs/main/linux-64::libstdcxx-ng-9.3.0-hd4cf53a_17\n",
      "  libxml2            pkgs/main/linux-64::libxml2-2.9.12-h03d6c58_0\n",
      "  ncbi-ngs-sdk       bioconda/linux-64::ncbi-ngs-sdk-2.10.4-hdf6179e_0\n",
      "  perl               pkgs/main/linux-64::perl-5.26.2-h14c3975_0\n",
      "  perl-app-cpanminus bioconda/linux-64::perl-app-cpanminus-1.7044-pl526_1\n",
      "  perl-business-isbn bioconda/linux-64::perl-business-isbn-3.004-pl526_0\n",
      "  perl-business-isb~ bioconda/linux-64::perl-business-isbn-data-20140910.003-pl526_0\n",
      "  perl-carp          bioconda/linux-64::perl-carp-1.38-pl526_3\n",
      "  perl-constant      bioconda/linux-64::perl-constant-1.33-pl526_1\n",
      "  perl-data-dumper   bioconda/linux-64::perl-data-dumper-2.173-pl526_0\n",
      "  perl-encode        bioconda/linux-64::perl-encode-2.88-pl526_1\n",
      "  perl-exporter      bioconda/linux-64::perl-exporter-5.72-pl526_1\n",
      "  perl-extutils-mak~ bioconda/linux-64::perl-extutils-makemaker-7.36-pl526_1\n",
      "  perl-file-path     bioconda/linux-64::perl-file-path-2.16-pl526_0\n",
      "  perl-file-temp     bioconda/linux-64::perl-file-temp-0.2304-pl526_2\n",
      "  perl-mime-base64   bioconda/linux-64::perl-mime-base64-3.15-pl526_1\n",
      "  perl-parent        bioconda/linux-64::perl-parent-0.236-pl526_1\n",
      "  perl-uri           bioconda/linux-64::perl-uri-1.76-pl526_0\n",
      "  perl-xml-libxml    bioconda/linux-64::perl-xml-libxml-2.0132-pl526h7ec2d77_1\n",
      "  perl-xml-namespac~ bioconda/linux-64::perl-xml-namespacesupport-1.12-pl526_0\n",
      "  perl-xml-sax       bioconda/noarch::perl-xml-sax-1.02-pl526_0\n",
      "  perl-xml-sax-base  bioconda/linux-64::perl-xml-sax-base-1.09-pl526_0\n",
      "  perl-xsloader      bioconda/linux-64::perl-xsloader-0.24-pl526_0\n",
      "  sra-tools          bioconda/linux-64::sra-tools-2.10.0-pl526he1b5a44_0\n",
      "  xz                 pkgs/main/linux-64::xz-5.2.5-h7b6447c_0\n",
      "  zlib               pkgs/main/linux-64::zlib-1.2.11-h7f8727e_4\n",
      "\n",
      "\n",
      "Preparing transaction: done\n",
      "Verifying transaction: done\n",
      "Executing transaction: done\n",
      "#\n",
      "# To activate this environment, use\n",
      "#\n",
      "#     $ conda activate sratools\n",
      "#\n",
      "# To deactivate an active environment, use\n",
      "#\n",
      "#     $ conda deactivate\n",
      "\n"
     ]
    }
   ],
   "source": [
    "conda create -y -n sratools -c bioconda sra-tools=2.10.0 entrez-direct"
   ]
  },
  {
   "cell_type": "code",
   "execution_count": 1,
   "id": "7e30f27f-ea0d-4790-8adf-fe8b436c2328",
   "metadata": {},
   "outputs": [
    {
     "name": "stdout",
     "output_type": "stream",
     "text": [
      "(sratools) "
     ]
    },
    {
     "ename": "",
     "evalue": "1",
     "output_type": "error",
     "traceback": []
    }
   ],
   "source": [
    "conda activate sratools"
   ]
  },
  {
   "cell_type": "code",
   "execution_count": 3,
   "id": "aaad32f3-8146-46e5-8105-c90bb7a506aa",
   "metadata": {},
   "outputs": [
    {
     "name": "stdout",
     "output_type": "stream",
     "text": [
      "(sratools) "
     ]
    },
    {
     "ename": "",
     "evalue": "1",
     "output_type": "error",
     "traceback": []
    }
   ],
   "source": [
    "mkdir snpkit_demo"
   ]
  },
  {
   "cell_type": "code",
   "execution_count": null,
   "id": "31a4c829-3e44-4f69-b2ad-b97c4fc3cf25",
   "metadata": {},
   "outputs": [],
   "source": [
    "cd snpkit_demo"
   ]
  },
  {
   "cell_type": "markdown",
   "id": "ce72ee11-062d-4e61-926f-7e0e06d06298",
   "metadata": {},
   "source": [
    "#### Download Bioproject PRJNA355241 sequence data"
   ]
  },
  {
   "cell_type": "code",
   "execution_count": null,
   "id": "7b3d31ec-e4eb-418f-9445-06a11a734ffb",
   "metadata": {},
   "outputs": [],
   "source": [
    "esearch -db sra -query PRJNA355241 | esummary | xtract -pattern DocumentSummary -element Experiment@acc,Run@acc,Platform@instrument_model,Sample@acc | cut -f2 | parallel fasterq-dump {}"
   ]
  },
  {
   "cell_type": "markdown",
   "id": "9ab40d4c-4755-4e74-9f85-9c6a6ccb1bba",
   "metadata": {},
   "source": [
    "#### Install snpkit and set up snpkit conda environments"
   ]
  },
  {
   "cell_type": "code",
   "execution_count": 7,
   "id": "337e7d41-504e-45db-8c47-e6def605b77e",
   "metadata": {},
   "outputs": [
    {
     "name": "stdout",
     "output_type": "stream",
     "text": [
      "(snpkit) "
     ]
    },
    {
     "ename": "",
     "evalue": "1",
     "output_type": "error",
     "traceback": []
    }
   ],
   "source": [
    "git config --global http.proxy http://proxy.arc-ts.umich.edu:3128"
   ]
  },
  {
   "cell_type": "code",
   "execution_count": 8,
   "id": "3d7074ec-54f4-4872-b9c4-f8fd9dc97c56",
   "metadata": {},
   "outputs": [
    {
     "name": "stdout",
     "output_type": "stream",
     "text": [
      "Cloning into 'snpkit'...\n",
      "remote: Enumerating objects: 2555, done.        \n",
      "remote: Counting objects: 100% (352/352), done.        \n",
      "remote: Compressing objects: 100% (250/250), done.        \n",
      "remote: Total 2555 (delta 213), reused 191 (delta 100), pack-reused 2203        \n",
      "Receiving objects: 100% (2555/2555), 46.79 MiB | 55.15 MiB/s, done.\n",
      "Resolving deltas: 100% (1671/1671), done.\n",
      "(snpkit) "
     ]
    },
    {
     "ename": "",
     "evalue": "1",
     "output_type": "error",
     "traceback": []
    }
   ],
   "source": [
    "git clone https://github.com/alipirani88/snpkit.git"
   ]
  },
  {
   "cell_type": "code",
   "execution_count": 15,
   "id": "0a4c0046-0456-4bc5-83ab-c302d96a0e4b",
   "metadata": {
    "scrolled": true,
    "tags": []
   },
   "outputs": [
    {
     "name": "stdout",
     "output_type": "stream",
     "text": [
      "Collecting package metadata (repodata.json): done\n",
      "Solving environment: done\n",
      "\n",
      "\n",
      "==> WARNING: A newer version of conda exists. <==\n",
      "  current version: 4.10.1\n",
      "  latest version: 4.11.0\n",
      "\n",
      "Please update conda by running\n",
      "\n",
      "    $ conda update -n base -c defaults conda\n",
      "\n",
      "\n",
      "\n",
      "Downloading and Extracting Packages\n",
      "_libgcc_mutex-0.1    | 2 KB      | ##################################### | 100% \n",
      "wheel-0.33.6         | 35 KB     | ##################################### | 100% \n",
      "Preparing transaction: done\n",
      "Verifying transaction: done\n",
      "Executing transaction: done\n",
      "#\n",
      "# To activate this environment, use\n",
      "#\n",
      "#     $ conda activate snpkit\n",
      "#\n",
      "# To deactivate an active environment, use\n",
      "#\n",
      "#     $ conda deactivate\n",
      "\n"
     ]
    }
   ],
   "source": [
    "conda env create -f snpkit/envs/environment.yml -n snpkit"
   ]
  },
  {
   "cell_type": "code",
   "execution_count": 16,
   "id": "b9ab9554-46bd-442a-9314-25ee92f4fded",
   "metadata": {
    "scrolled": true,
    "tags": []
   },
   "outputs": [
    {
     "name": "stdout",
     "output_type": "stream",
     "text": [
      "Collecting package metadata (repodata.json): done\n",
      "Solving environment: done\n",
      "\n",
      "\n",
      "==> WARNING: A newer version of conda exists. <==\n",
      "  current version: 4.10.1\n",
      "  latest version: 4.11.0\n",
      "\n",
      "Please update conda by running\n",
      "\n",
      "    $ conda update -n base -c defaults conda\n",
      "\n",
      "\n",
      "\n",
      "Downloading and Extracting Packages\n",
      "wheel-0.33.6         | 35 KB     | ##################################### | 100% \n",
      "nose-1.3.7           | 213 KB    | ##################################### | 100% \n",
      "six-1.13.0           | 22 KB     | ##################################### | 100% \n",
      "pip-19.3.1           | 1.9 MB    | ##################################### | 100% \n",
      "certifi-2019.9.11    | 147 KB    | ##################################### | 100% \n",
      "setuptools-41.6.0    | 634 KB    | ##################################### | 100% \n",
      "Preparing transaction: done\n",
      "Verifying transaction: done\n",
      "Executing transaction: done\n",
      "#\n",
      "# To activate this environment, use\n",
      "#\n",
      "#     $ conda activate gubbins\n",
      "#\n",
      "# To deactivate an active environment, use\n",
      "#\n",
      "#     $ conda deactivate\n",
      "\n"
     ]
    }
   ],
   "source": [
    "conda env create -f snpkit/envs/environment_gubbins.yml -n gubbins"
   ]
  },
  {
   "cell_type": "code",
   "execution_count": 18,
   "id": "cfe2594f-8816-4815-b899-810a0d1e761f",
   "metadata": {},
   "outputs": [
    {
     "name": "stdout",
     "output_type": "stream",
     "text": [
      "(base) "
     ]
    },
    {
     "ename": "",
     "evalue": "1",
     "output_type": "error",
     "traceback": []
    }
   ],
   "source": [
    "conda deactivate"
   ]
  },
  {
   "cell_type": "code",
   "execution_count": 1,
   "id": "1559af14-612b-4016-b900-e24ab5d93308",
   "metadata": {},
   "outputs": [
    {
     "name": "stdout",
     "output_type": "stream",
     "text": [
      "(snpkit) "
     ]
    },
    {
     "ename": "",
     "evalue": "1",
     "output_type": "error",
     "traceback": []
    }
   ],
   "source": [
    "conda activate snpkit"
   ]
  },
  {
   "cell_type": "code",
   "execution_count": 13,
   "id": "84d01bc5-cc09-424a-8fe3-f0dcee4f92eb",
   "metadata": {},
   "outputs": [
    {
     "name": "stdout",
     "output_type": "stream",
     "text": [
      "usage: snpkit.py [-h] -type TYPE -readsdir DIR -index INDEX [-steps STEPS]\n",
      "                 -analysis PREFIX -outdir OUTPUT [-cluster CLUSTER]\n",
      "                 [-scheduler SCHEDULER] [-config CONFIG] [-suffix SUFFIX]\n",
      "                 [-filenames FILENAMES] [-clean]\n",
      "                 [-extract_unmapped EXTRACT_UNMAPPED] [-gubbins GUBBINS]\n",
      "                 [-outgroup OUTGROUP] [-downsample DOWNSAMPLE]\n",
      "                 [-coverage_depth COVERAGE_DEPTH] [-genomesize GENOMESIZE]\n",
      "                 [-dryrun] [-mask] [-clip]\n",
      "\n",
      "SNPKIT - A workflow for Microbial Variant Calling, Recombination detection and Phylogenetic tree reconstruction.\n",
      "\n",
      "optional arguments:\n",
      "  -h, --help            show this help message and exit\n",
      "\n",
      "INPUT:\n",
      "  -type TYPE            Type of illumina reads. Options: SE for single-end, PE for paired-end\n",
      "  -readsdir DIR         path to input sequencing reads data folder.\n",
      "  -index INDEX          Reference genome index name (prefix) as described in -config file.\n",
      "  -steps STEPS          Run this part of snpkit. Options: All, core_All\n",
      "                        All: run first part of snpkit - trimming, mapping, calling variants;\n",
      "                        core_All: run second part of snpkit - filter variants, generate core/non-core multi-fasta alignments, SNP/Indel Matrices.\n",
      "  -analysis PREFIX      prefix for output files.\n",
      "\n",
      "OUTPUT:\n",
      "  -outdir OUTPUT        output directory path ending with output directory name.\n",
      "\n",
      "RESOURCES:\n",
      "  -cluster CLUSTER      run snpkit in local or cluster mode. Default: local\n",
      "  -scheduler SCHEDULER  Type of HPC job scheduler. Supports PBS, SLURM\n",
      "\n",
      "SUBSAMPLE:\n",
      "  -downsample DOWNSAMPLE\n",
      "                        Subsample reads to a default depth of 100X or user specified -coverage_depth\n",
      "  -coverage_depth COVERAGE_DEPTH\n",
      "                        Downsample reads to this depth\n",
      "  -genomesize GENOMESIZE\n",
      "                        Genome size to calculate raw coverage\n",
      "\n",
      "Optional:\n",
      "  -config CONFIG        Path to YAML config file. Default: snpkit config - snpkit/config\n",
      "  -suffix SUFFIX        Custom fastq reads suffix. Default: fastq.gz. supports *.fastq, *.fastq.gz, *.fq.gz, *.fq; \n",
      "  -filenames FILENAMES  Run snpkit on a subset of files in -readsdir folder. The file should contain single-end filename per line.\n",
      "  -clean                Delete all intermediate files. Default: yes Options: yes, no\n",
      "  -gubbins GUBBINS      Run Gubbins. Options: yes,no. Default: no\n",
      "  -dryrun               Perform a trial run without running any jobs.\n",
      "  -mask                 Mask Gubbins detected recombinant region and run Iqtree on masked alignment\n",
      "  -clip                 Filter SAM file for soft and hard clipped alignments. Default: OFF\n",
      "\n",
      "Development Phase:\n",
      "  -extract_unmapped EXTRACT_UNMAPPED\n",
      "                        Extract unmapped reads, assemble it and detect AMR genes using ariba\n",
      "  -outgroup OUTGROUP    Outgroup sample name. Alpha testing version. Not recommended.\n",
      "(snpkit) "
     ]
    },
    {
     "ename": "",
     "evalue": "1",
     "output_type": "error",
     "traceback": []
    }
   ],
   "source": [
    "python snpkit/snpkit.py -h"
   ]
  },
  {
   "cell_type": "markdown",
   "id": "344b0e4c-691c-4a95-bff6-0ecff6317526",
   "metadata": {},
   "source": [
    "#### Download and Prepare reference genome inputs\n",
    "\n",
    "Now lets download the reference genome KPNIH1 (accession NZ_CP008827.1) and its annotations from NCBI refseq database.\n"
   ]
  },
  {
   "cell_type": "code",
   "execution_count": null,
   "id": "37cbf2a0-2bee-4b47-b870-ffda3d7dc9d5",
   "metadata": {},
   "outputs": [],
   "source": [
    "wget https://ftp.ncbi.nlm.nih.gov/genomes/all/GCF/000/281/535/GCF_000281535.2_ASM28153v2/GCF_000281535.2_ASM28153v2_genomic.fna.gz\n",
    "wget https://ftp.ncbi.nlm.nih.gov/genomes/all/GCF/000/281/535/GCF_000281535.2_ASM28153v2/GCF_000281535.2_ASM28153v2_genomic.gbff.gz\n",
    "wget https://ftp.ncbi.nlm.nih.gov/genomes/all/GCF/000/281/535/GCF_000281535.2_ASM28153v2/GCF_000281535.2_ASM28153v2_genomic.gff.gz\n",
    "# Decompress the downloaded files\n",
    "gzip -d GCF_000281535*.gz"
   ]
  },
  {
   "cell_type": "code",
   "execution_count": 16,
   "id": "1794e129-1858-4394-875e-305bc74fdd27",
   "metadata": {},
   "outputs": [
    {
     "name": "stdout",
     "output_type": "stream",
     "text": [
      "(snpkit) >NZ_CP008827.1 Klebsiella pneumoniae subsp. pneumoniae KPNIH1 chromosome, complete genome\n",
      ">NZ_CP008830.1 Klebsiella pneumoniae subsp. pneumoniae KPNIH1 plasmid pKpQIL-6e6, complete sequence\n",
      ">NZ_CP008828.1 Klebsiella pneumoniae subsp. pneumoniae KPNIH1 plasmid pAAC154-a50, complete sequence\n",
      ">NZ_CP008829.1 Klebsiella pneumoniae subsp. pneumoniae KPNIH1 plasmid pKPN-498, complete sequence\n",
      "(snpkit) "
     ]
    },
    {
     "ename": "",
     "evalue": "1",
     "output_type": "error",
     "traceback": []
    }
   ],
   "source": [
    "# Print fasta headers\n",
    "grep '>' GCF_000281535.2_ASM28153v2_genomic.fna"
   ]
  },
  {
   "cell_type": "code",
   "execution_count": null,
   "id": "bec2b032-461c-48ac-b897-1f8bc312c0f0",
   "metadata": {},
   "outputs": [],
   "source": [
    "mkdir KPNIH1\n",
    "mv GCF* KPNIH1/\n",
    "cd KPNIH1"
   ]
  },
  {
   "cell_type": "markdown",
   "id": "e399f918-da37-4c12-b41c-1bcf1e2cb186",
   "metadata": {},
   "source": [
    "- We will now remove the plasmid sequences from GCF_000281535.2_ASM28153v2_genomic.fna using seqtk and save the KPNIH1 chromosome into KPNIH1.fasta. We will also rename the genbank and gff file to KPNIH.gbk and KPNIH.gff "
   ]
  },
  {
   "cell_type": "code",
   "execution_count": 27,
   "id": "51783209-0617-4a2f-be96-3e4e87afd9eb",
   "metadata": {},
   "outputs": [
    {
     "name": "stdout",
     "output_type": "stream",
     "text": [
      "(snpkit) "
     ]
    },
    {
     "ename": "",
     "evalue": "1",
     "output_type": "error",
     "traceback": []
    }
   ],
   "source": [
    "grep '>' GCF_000281535.2_ASM28153v2_genomic.fna | head -n1 | sed 's/>//g' > chr.txt"
   ]
  },
  {
   "cell_type": "code",
   "execution_count": 28,
   "id": "4564f142-3004-43ba-8eee-3b32ea0486ea",
   "metadata": {},
   "outputs": [
    {
     "name": "stdout",
     "output_type": "stream",
     "text": [
      "(snpkit) "
     ]
    },
    {
     "ename": "",
     "evalue": "1",
     "output_type": "error",
     "traceback": []
    }
   ],
   "source": [
    "seqtk subseq GCF_000281535.2_ASM28153v2_genomic.fna chr.txt > KPNIH1.fasta"
   ]
  },
  {
   "cell_type": "code",
   "execution_count": 29,
   "id": "557f5ee9-c55d-4d13-9aac-4163d872fbf4",
   "metadata": {},
   "outputs": [
    {
     "name": "stdout",
     "output_type": "stream",
     "text": [
      ">NZ_CP008827.1 Klebsiella pneumoniae subsp. pneumoniae KPNIH1 chromosome, complete genome\n",
      "(snpkit) "
     ]
    },
    {
     "ename": "",
     "evalue": "1",
     "output_type": "error",
     "traceback": []
    }
   ],
   "source": [
    "# KPNIH1.fasta should contain only Chromosomal element now\n",
    "grep '>' KPNIH1.fasta"
   ]
  },
  {
   "cell_type": "code",
   "execution_count": 30,
   "id": "e7f17698-d37e-4c73-913b-f3d4a01b3fac",
   "metadata": {},
   "outputs": [
    {
     "name": "stdout",
     "output_type": "stream",
     "text": [
      "(snpkit) (snpkit) (snpkit) "
     ]
    },
    {
     "ename": "",
     "evalue": "1",
     "output_type": "error",
     "traceback": []
    }
   ],
   "source": [
    "# Rename  GCF_000281535.2_ASM28153v2_genomic.gff and GCF_000281535.2_ASM28153v2_genomic.gbff to KPNIH1.gff and KPNIH1.gbf\n",
    "mv GCF_000281535.2_ASM28153v2_genomic.gff KPNIH1.gff\n",
    "mv GCF_000281535.2_ASM28153v2_genomic.gbff KPNIH1.gbf"
   ]
  },
  {
   "cell_type": "code",
   "execution_count": 31,
   "id": "0e3ac542-a3f3-4ab0-a368-3c8b5f9322a8",
   "metadata": {},
   "outputs": [
    {
     "name": "stdout",
     "output_type": "stream",
     "text": [
      "(snpkit) (snpkit) (snpkit) (snpkit) wget: /sw/arcts/centos7/python3.8-anaconda/2021.05/lib/libuuid.so.1: no version information available (required by wget)\n",
      "--2022-02-15 14:24:48--  http://phaster.ca/submissions/NZ_CP008827.1.zip\n",
      "Resolving proxy.arc-ts.umich.edu (proxy.arc-ts.umich.edu)... 141.213.136.200\n",
      "Connecting to proxy.arc-ts.umich.edu (proxy.arc-ts.umich.edu)|141.213.136.200|:3128... connected.\n",
      "Proxy request sent, awaiting response... 200 OK\n",
      "Length: unspecified [application/zip]\n",
      "Saving to: ‘NZ_CP008827.1.zip’\n",
      "\n",
      "    [ <=>                                   ] 153,919     --.-K/s   in 0.04s   \n",
      "\n",
      "2022-02-15 14:24:49 (3.79 MB/s) - ‘NZ_CP008827.1.zip’ saved [153919]\n",
      "\n",
      "(snpkit) Archive:  NZ_CP008827.1.zip\n",
      "  inflating: summary.txt             \n",
      "  inflating: detail.txt              \n",
      "  inflating: phage_regions.fna       \n",
      "(snpkit) "
     ]
    },
    {
     "ename": "",
     "evalue": "1",
     "output_type": "error",
     "traceback": []
    }
   ],
   "source": [
    "# Go to http://phaster.ca/ and download the phaster results for accession NZ_CP008827.1\n",
    "# Select Enter Accession and type NZ_CP008827.1\n",
    "# Download the zipped results from Download results option. (Right click and select Copy Link)\n",
    "# snpkit uses these files to detect phage regions in reference genomes and mask them from the final results.\n",
    "wget http://phaster.ca/submissions/NZ_CP008827.1.zip\n",
    "unzip NZ_CP008827.1.zip"
   ]
  },
  {
   "cell_type": "markdown",
   "id": "3a428c1f-dea0-4baf-8566-05cd52984f72",
   "metadata": {},
   "source": [
    "#### Set up config file to use KPNIH1 as the reference genome\n",
    "\n",
    "- Open snpkit/config file and add the below KPNIH1 specific paths to config file.\n",
    "\n",
    "```\n",
    "# Name of the reference genome. Provide this value with -index_name argument.\n",
    "[KPNIH1]\n",
    "# Name of reference genome fasta file.\n",
    "Ref_Name: KPNIH1.fasta\n",
    "# path to the reference genome fasta file.\n",
    "Ref_Path: /scratch/esnitkin_root/esnitkin/apirani/Testing_pipelines/Variant_calling/snpkit_demo/KPNIH1/\n",
    "```\n",
    "\n",
    "- This will tell snpkit to use KPNIH1 as the reference genome.\n",
    "\n",
    "You are all set!"
   ]
  },
  {
   "cell_type": "markdown",
   "id": "d4bae99e-8b5b-4ecd-b56e-80a1e9d85119",
   "metadata": {},
   "source": [
    "\n",
    "#### Run snpkit on downloaded samples\n",
    "\n",
    "- snpkit workflow using default settings and in local mode.\n",
    "\n"
   ]
  },
  {
   "cell_type": "code",
   "execution_count": 44,
   "id": "3d0a46d2-ad19-40dd-8013-bb249e2075cf",
   "metadata": {
    "scrolled": true,
    "tags": []
   },
   "outputs": [
    {
     "name": "stdout",
     "output_type": "stream",
     "text": [
      "START:\n",
      "Getting Reference Genome name from config file.\n",
      "Reference Genome: /scratch/esnitkin_root/esnitkin/apirani/Testing_pipelines/Variant_calling/snpkit_demo/KPNIH1//KPNIH1.fasta\n",
      "Index file already exists.\n",
      "Samtools fai Index file already exists.\n",
      "The reference seq dict file required for GATK and PICARD exists.\n",
      "Generating cluster jobs in temporary directory /scratch/esnitkin_root/esnitkin/apirani/Testing_pipelines/Variant_calling/snpkit_demo/snpkit_demo_results//temp_jobs\n",
      "Running Jobs in local mode\n",
      "Running Job: bash /scratch/esnitkin_root/esnitkin/apirani/Testing_pipelines/Variant_calling/snpkit_demo/snpkit_demo_results//temp_jobs/SRR6204377.pbs\n",
      "Running Job: bash /scratch/esnitkin_root/esnitkin/apirani/Testing_pipelines/Variant_calling/snpkit_demo/snpkit_demo_results//temp_jobs/SRR6204356.pbs\n",
      "Running Job: bash /scratch/esnitkin_root/esnitkin/apirani/Testing_pipelines/Variant_calling/snpkit_demo/snpkit_demo_results//temp_jobs/SRR6204388.pbs\n",
      "Running Job: bash /scratch/esnitkin_root/esnitkin/apirani/Testing_pipelines/Variant_calling/snpkit_demo/snpkit_demo_results//temp_jobs/SRR6204379.pbs\n",
      "Running Job: bash /scratch/esnitkin_root/esnitkin/apirani/Testing_pipelines/Variant_calling/snpkit_demo/snpkit_demo_results//temp_jobs/SRR6204381.pbs\n",
      "Running Job: bash /scratch/esnitkin_root/esnitkin/apirani/Testing_pipelines/Variant_calling/snpkit_demo/snpkit_demo_results//temp_jobs/SRR6204333.pbs\n",
      "Running Job: bash /scratch/esnitkin_root/esnitkin/apirani/Testing_pipelines/Variant_calling/snpkit_demo/snpkit_demo_results//temp_jobs/SRR6204374.pbs\n",
      "Running Job: bash /scratch/esnitkin_root/esnitkin/apirani/Testing_pipelines/Variant_calling/snpkit_demo/snpkit_demo_results//temp_jobs/SRR6204358.pbs\n",
      "Running Job: bash /scratch/esnitkin_root/esnitkin/apirani/Testing_pipelines/Variant_calling/snpkit_demo/snpkit_demo_results//temp_jobs/SRR6204360.pbs\n",
      "Running Job: bash /scratch/esnitkin_root/esnitkin/apirani/Testing_pipelines/Variant_calling/snpkit_demo/snpkit_demo_results//temp_jobs/SRR6204359.pbs\n",
      "Running Job: bash /scratch/esnitkin_root/esnitkin/apirani/Testing_pipelines/Variant_calling/snpkit_demo/snpkit_demo_results//temp_jobs/SRR6204344.pbs\n",
      "Running Job: bash /scratch/esnitkin_root/esnitkin/apirani/Testing_pipelines/Variant_calling/snpkit_demo/snpkit_demo_results//temp_jobs/SRR6204342.pbs\n",
      "Running Job: bash /scratch/esnitkin_root/esnitkin/apirani/Testing_pipelines/Variant_calling/snpkit_demo/snpkit_demo_results//temp_jobs/SRR6204331.pbs\n",
      "Running Job: bash /scratch/esnitkin_root/esnitkin/apirani/Testing_pipelines/Variant_calling/snpkit_demo/snpkit_demo_results//temp_jobs/SRR6204337.pbs\n",
      "Running Job: bash /scratch/esnitkin_root/esnitkin/apirani/Testing_pipelines/Variant_calling/snpkit_demo/snpkit_demo_results//temp_jobs/SRR6204334.pbs\n",
      "Running Job: bash /scratch/esnitkin_root/esnitkin/apirani/Testing_pipelines/Variant_calling/snpkit_demo/snpkit_demo_results//temp_jobs/SRR6204390.pbs\n",
      "Running Job: bash /scratch/esnitkin_root/esnitkin/apirani/Testing_pipelines/Variant_calling/snpkit_demo/snpkit_demo_results//temp_jobs/SRR6204357.pbs\n",
      "Running Job: bash /scratch/esnitkin_root/esnitkin/apirani/Testing_pipelines/Variant_calling/snpkit_demo/snpkit_demo_results//temp_jobs/SRR6204378.pbs\n",
      "Running Job: bash /scratch/esnitkin_root/esnitkin/apirani/Testing_pipelines/Variant_calling/snpkit_demo/snpkit_demo_results//temp_jobs/SRR6204341.pbs\n",
      "Running Job: bash /scratch/esnitkin_root/esnitkin/apirani/Testing_pipelines/Variant_calling/snpkit_demo/snpkit_demo_results//temp_jobs/SRR6204387.pbs\n",
      "Running Job: bash /scratch/esnitkin_root/esnitkin/apirani/Testing_pipelines/Variant_calling/snpkit_demo/snpkit_demo_results//temp_jobs/SRR6204364.pbs\n",
      "Running Job: bash /scratch/esnitkin_root/esnitkin/apirani/Testing_pipelines/Variant_calling/snpkit_demo/snpkit_demo_results//temp_jobs/SRR6204354.pbs\n",
      "Running Job: bash /scratch/esnitkin_root/esnitkin/apirani/Testing_pipelines/Variant_calling/snpkit_demo/snpkit_demo_results//temp_jobs/SRR6204352.pbs\n",
      "Running Job: bash /scratch/esnitkin_root/esnitkin/apirani/Testing_pipelines/Variant_calling/snpkit_demo/snpkit_demo_results//temp_jobs/SRR6204330.pbs\n",
      "Running Job: bash /scratch/esnitkin_root/esnitkin/apirani/Testing_pipelines/Variant_calling/snpkit_demo/snpkit_demo_results//temp_jobs/SRR6204376.pbs\n",
      "Running Job: bash /scratch/esnitkin_root/esnitkin/apirani/Testing_pipelines/Variant_calling/snpkit_demo/snpkit_demo_results//temp_jobs/SRR6204370.pbs\n",
      "Running Job: bash /scratch/esnitkin_root/esnitkin/apirani/Testing_pipelines/Variant_calling/snpkit_demo/snpkit_demo_results//temp_jobs/SRR6204385.pbs\n",
      "Running Job: bash /scratch/esnitkin_root/esnitkin/apirani/Testing_pipelines/Variant_calling/snpkit_demo/snpkit_demo_results//temp_jobs/SRR6204380.pbs\n",
      "Running Job: bash /scratch/esnitkin_root/esnitkin/apirani/Testing_pipelines/Variant_calling/snpkit_demo/snpkit_demo_results//temp_jobs/SRR6204371.pbs\n",
      "Running Job: bash /scratch/esnitkin_root/esnitkin/apirani/Testing_pipelines/Variant_calling/snpkit_demo/snpkit_demo_results//temp_jobs/SRR6204375.pbs\n",
      "Running Job: bash /scratch/esnitkin_root/esnitkin/apirani/Testing_pipelines/Variant_calling/snpkit_demo/snpkit_demo_results//temp_jobs/SRR6204393.pbs\n",
      "Running Job: bash /scratch/esnitkin_root/esnitkin/apirani/Testing_pipelines/Variant_calling/snpkit_demo/snpkit_demo_results//temp_jobs/SRR6204391.pbs\n",
      "Running Job: bash /scratch/esnitkin_root/esnitkin/apirani/Testing_pipelines/Variant_calling/snpkit_demo/snpkit_demo_results//temp_jobs/SRR6204350.pbs\n",
      "Running Job: bash /scratch/esnitkin_root/esnitkin/apirani/Testing_pipelines/Variant_calling/snpkit_demo/snpkit_demo_results//temp_jobs/SRR6204383.pbs\n",
      "Running Job: bash /scratch/esnitkin_root/esnitkin/apirani/Testing_pipelines/Variant_calling/snpkit_demo/snpkit_demo_results//temp_jobs/SRR6204367.pbs\n",
      "Running Job: bash /scratch/esnitkin_root/esnitkin/apirani/Testing_pipelines/Variant_calling/snpkit_demo/snpkit_demo_results//temp_jobs/SRR6204326.pbs\n",
      "Running Job: bash /scratch/esnitkin_root/esnitkin/apirani/Testing_pipelines/Variant_calling/snpkit_demo/snpkit_demo_results//temp_jobs/SRR6204363.pbs\n",
      "Running Job: bash /scratch/esnitkin_root/esnitkin/apirani/Testing_pipelines/Variant_calling/snpkit_demo/snpkit_demo_results//temp_jobs/SRR6204336.pbs\n",
      "Running Job: bash /scratch/esnitkin_root/esnitkin/apirani/Testing_pipelines/Variant_calling/snpkit_demo/snpkit_demo_results//temp_jobs/SRR6204353.pbs\n",
      "Running Job: bash /scratch/esnitkin_root/esnitkin/apirani/Testing_pipelines/Variant_calling/snpkit_demo/snpkit_demo_results//temp_jobs/SRR6204338.pbs\n",
      "Running Job: bash /scratch/esnitkin_root/esnitkin/apirani/Testing_pipelines/Variant_calling/snpkit_demo/snpkit_demo_results//temp_jobs/SRR6204355.pbs\n",
      "Running Job: bash /scratch/esnitkin_root/esnitkin/apirani/Testing_pipelines/Variant_calling/snpkit_demo/snpkit_demo_results//temp_jobs/SRR6204343.pbs\n",
      "Running Job: bash /scratch/esnitkin_root/esnitkin/apirani/Testing_pipelines/Variant_calling/snpkit_demo/snpkit_demo_results//temp_jobs/SRR6204361.pbs\n",
      "Running Job: bash /scratch/esnitkin_root/esnitkin/apirani/Testing_pipelines/Variant_calling/snpkit_demo/snpkit_demo_results//temp_jobs/SRR6204372.pbs\n",
      "Running Job: bash /scratch/esnitkin_root/esnitkin/apirani/Testing_pipelines/Variant_calling/snpkit_demo/snpkit_demo_results//temp_jobs/SRR6204347.pbs\n",
      "Running Job: bash /scratch/esnitkin_root/esnitkin/apirani/Testing_pipelines/Variant_calling/snpkit_demo/snpkit_demo_results//temp_jobs/SRR6204339.pbs\n",
      "Running Job: bash /scratch/esnitkin_root/esnitkin/apirani/Testing_pipelines/Variant_calling/snpkit_demo/snpkit_demo_results//temp_jobs/SRR6204328.pbs\n",
      "Running Job: bash /scratch/esnitkin_root/esnitkin/apirani/Testing_pipelines/Variant_calling/snpkit_demo/snpkit_demo_results//temp_jobs/SRR6204348.pbs\n",
      "Running Job: bash /scratch/esnitkin_root/esnitkin/apirani/Testing_pipelines/Variant_calling/snpkit_demo/snpkit_demo_results//temp_jobs/SRR6204346.pbs\n",
      "Running Job: bash /scratch/esnitkin_root/esnitkin/apirani/Testing_pipelines/Variant_calling/snpkit_demo/snpkit_demo_results//temp_jobs/SRR6204345.pbs\n",
      "Running Job: bash /scratch/esnitkin_root/esnitkin/apirani/Testing_pipelines/Variant_calling/snpkit_demo/snpkit_demo_results//temp_jobs/SRR6204373.pbs\n",
      "Running Job: bash /scratch/esnitkin_root/esnitkin/apirani/Testing_pipelines/Variant_calling/snpkit_demo/snpkit_demo_results//temp_jobs/SRR6204394.pbs\n",
      "Running Job: bash /scratch/esnitkin_root/esnitkin/apirani/Testing_pipelines/Variant_calling/snpkit_demo/snpkit_demo_results//temp_jobs/SRR6204327.pbs\n",
      "Running Job: bash /scratch/esnitkin_root/esnitkin/apirani/Testing_pipelines/Variant_calling/snpkit_demo/snpkit_demo_results//temp_jobs/SRR6204329.pbs\n",
      "Running Job: bash /scratch/esnitkin_root/esnitkin/apirani/Testing_pipelines/Variant_calling/snpkit_demo/snpkit_demo_results//temp_jobs/SRR6204368.pbs\n",
      "Running Job: bash /scratch/esnitkin_root/esnitkin/apirani/Testing_pipelines/Variant_calling/snpkit_demo/snpkit_demo_results//temp_jobs/SRR6204335.pbs\n",
      "Running Job: bash /scratch/esnitkin_root/esnitkin/apirani/Testing_pipelines/Variant_calling/snpkit_demo/snpkit_demo_results//temp_jobs/SRR6204366.pbs\n",
      "Running Job: bash /scratch/esnitkin_root/esnitkin/apirani/Testing_pipelines/Variant_calling/snpkit_demo/snpkit_demo_results//temp_jobs/SRR6204389.pbs\n",
      "Running Job: bash /scratch/esnitkin_root/esnitkin/apirani/Testing_pipelines/Variant_calling/snpkit_demo/snpkit_demo_results//temp_jobs/SRR6204332.pbs\n",
      "Running Job: bash /scratch/esnitkin_root/esnitkin/apirani/Testing_pipelines/Variant_calling/snpkit_demo/snpkit_demo_results//temp_jobs/SRR6204340.pbs\n",
      "Running Job: bash /scratch/esnitkin_root/esnitkin/apirani/Testing_pipelines/Variant_calling/snpkit_demo/snpkit_demo_results//temp_jobs/SRR6204386.pbs\n",
      "Running Job: bash /scratch/esnitkin_root/esnitkin/apirani/Testing_pipelines/Variant_calling/snpkit_demo/snpkit_demo_results//temp_jobs/SRR6204392.pbs\n",
      "Running Job: bash /scratch/esnitkin_root/esnitkin/apirani/Testing_pipelines/Variant_calling/snpkit_demo/snpkit_demo_results//temp_jobs/SRR6204384.pbs\n",
      "Running Job: bash /scratch/esnitkin_root/esnitkin/apirani/Testing_pipelines/Variant_calling/snpkit_demo/snpkit_demo_results//temp_jobs/SRR6204349.pbs\n",
      "Running Job: bash /scratch/esnitkin_root/esnitkin/apirani/Testing_pipelines/Variant_calling/snpkit_demo/snpkit_demo_results//temp_jobs/SRR6204362.pbs\n",
      "Running Job: bash /scratch/esnitkin_root/esnitkin/apirani/Testing_pipelines/Variant_calling/snpkit_demo/snpkit_demo_results//temp_jobs/SRR6204351.pbs\n",
      "Running Job: bash /scratch/esnitkin_root/esnitkin/apirani/Testing_pipelines/Variant_calling/snpkit_demo/snpkit_demo_results//temp_jobs/SRR6204369.pbs\n",
      "Running Job: bash /scratch/esnitkin_root/esnitkin/apirani/Testing_pipelines/Variant_calling/snpkit_demo/snpkit_demo_results//temp_jobs/SRR6204365.pbs\n",
      "Running Job: bash /scratch/esnitkin_root/esnitkin/apirani/Testing_pipelines/Variant_calling/snpkit_demo/snpkit_demo_results//temp_jobs/SRR6204382.pbs\n",
      "Logs were recorded in file with extension log.txt in /scratch/esnitkin_root/esnitkin/apirani/Testing_pipelines/Variant_calling/snpkit_demo/snpkit_demo_results//Logs/variant_calling\n",
      "Total Time taken: 0:00:00.230828\n",
      "End: Variant calling Pipeline\n",
      "(snpkit) "
     ]
    },
    {
     "ename": "",
     "evalue": "1",
     "output_type": "error",
     "traceback": []
    }
   ],
   "source": [
    "python snpkit/snpkit.py -type PE -readsdir /scratch/esnitkin_root/esnitkin/apirani/Testing_pipelines/Variant_calling/snpkit_demo/ -index KPNIH1 -steps All -analysis snpkit_demo -outdir /scratch/esnitkin_root/esnitkin/apirani/Testing_pipelines/Variant_calling/snpkit_demo/snpkit_demo_results -cluster local -clean -dryrun "
   ]
  },
  {
   "cell_type": "code",
   "execution_count": 45,
   "id": "8ddcbf7f-889d-4d02-a5dd-ddff3740999f",
   "metadata": {
    "scrolled": true,
    "tags": []
   },
   "outputs": [
    {
     "name": "stdout",
     "output_type": "stream",
     "text": [
      "START:\n",
      "Getting Reference Genome name from config file.\n",
      "Reference Genome: /scratch/esnitkin_root/esnitkin/apirani/Testing_pipelines/Variant_calling/snpkit_demo/KPNIH1//KPNIH1.fasta\n",
      "Index file already exists.\n",
      "Samtools fai Index file already exists.\n",
      "The reference seq dict file required for GATK and PICARD exists.\n",
      "Generating cluster jobs in temporary directory /scratch/esnitkin_root/esnitkin/apirani/Testing_pipelines/Variant_calling/snpkit_demo/snpkit_demo_results//temp_jobs\n",
      "Running Jobs in cluster mode\n",
      "Submitting Job: /scratch/esnitkin_root/esnitkin/apirani/Testing_pipelines/Variant_calling/snpkit_demo/snpkit_demo_results//temp_jobs/SRR6204391.sbat\n",
      "sbatch /scratch/esnitkin_root/esnitkin/apirani/Testing_pipelines/Variant_calling/snpkit_demo/snpkit_demo_results//temp_jobs/SRR6204391.sbat\n",
      "Submitting Job: /scratch/esnitkin_root/esnitkin/apirani/Testing_pipelines/Variant_calling/snpkit_demo/snpkit_demo_results//temp_jobs/SRR6204330.sbat\n",
      "sbatch /scratch/esnitkin_root/esnitkin/apirani/Testing_pipelines/Variant_calling/snpkit_demo/snpkit_demo_results//temp_jobs/SRR6204330.sbat\n",
      "Submitting Job: /scratch/esnitkin_root/esnitkin/apirani/Testing_pipelines/Variant_calling/snpkit_demo/snpkit_demo_results//temp_jobs/SRR6204353.sbat\n",
      "sbatch /scratch/esnitkin_root/esnitkin/apirani/Testing_pipelines/Variant_calling/snpkit_demo/snpkit_demo_results//temp_jobs/SRR6204353.sbat\n",
      "Submitting Job: /scratch/esnitkin_root/esnitkin/apirani/Testing_pipelines/Variant_calling/snpkit_demo/snpkit_demo_results//temp_jobs/SRR6204345.sbat\n",
      "sbatch /scratch/esnitkin_root/esnitkin/apirani/Testing_pipelines/Variant_calling/snpkit_demo/snpkit_demo_results//temp_jobs/SRR6204345.sbat\n",
      "Submitting Job: /scratch/esnitkin_root/esnitkin/apirani/Testing_pipelines/Variant_calling/snpkit_demo/snpkit_demo_results//temp_jobs/SRR6204348.sbat\n",
      "sbatch /scratch/esnitkin_root/esnitkin/apirani/Testing_pipelines/Variant_calling/snpkit_demo/snpkit_demo_results//temp_jobs/SRR6204348.sbat\n",
      "Submitting Job: /scratch/esnitkin_root/esnitkin/apirani/Testing_pipelines/Variant_calling/snpkit_demo/snpkit_demo_results//temp_jobs/SRR6204344.sbat\n",
      "sbatch /scratch/esnitkin_root/esnitkin/apirani/Testing_pipelines/Variant_calling/snpkit_demo/snpkit_demo_results//temp_jobs/SRR6204344.sbat\n",
      "Submitting Job: /scratch/esnitkin_root/esnitkin/apirani/Testing_pipelines/Variant_calling/snpkit_demo/snpkit_demo_results//temp_jobs/SRR6204373.sbat\n",
      "sbatch /scratch/esnitkin_root/esnitkin/apirani/Testing_pipelines/Variant_calling/snpkit_demo/snpkit_demo_results//temp_jobs/SRR6204373.sbat\n",
      "Submitting Job: /scratch/esnitkin_root/esnitkin/apirani/Testing_pipelines/Variant_calling/snpkit_demo/snpkit_demo_results//temp_jobs/SRR6204386.sbat\n",
      "sbatch /scratch/esnitkin_root/esnitkin/apirani/Testing_pipelines/Variant_calling/snpkit_demo/snpkit_demo_results//temp_jobs/SRR6204386.sbat\n",
      "Submitting Job: /scratch/esnitkin_root/esnitkin/apirani/Testing_pipelines/Variant_calling/snpkit_demo/snpkit_demo_results//temp_jobs/SRR6204372.sbat\n",
      "sbatch /scratch/esnitkin_root/esnitkin/apirani/Testing_pipelines/Variant_calling/snpkit_demo/snpkit_demo_results//temp_jobs/SRR6204372.sbat\n",
      "Submitting Job: /scratch/esnitkin_root/esnitkin/apirani/Testing_pipelines/Variant_calling/snpkit_demo/snpkit_demo_results//temp_jobs/SRR6204347.sbat\n",
      "sbatch /scratch/esnitkin_root/esnitkin/apirani/Testing_pipelines/Variant_calling/snpkit_demo/snpkit_demo_results//temp_jobs/SRR6204347.sbat\n",
      "Submitting Job: /scratch/esnitkin_root/esnitkin/apirani/Testing_pipelines/Variant_calling/snpkit_demo/snpkit_demo_results//temp_jobs/SRR6204369.sbat\n",
      "sbatch /scratch/esnitkin_root/esnitkin/apirani/Testing_pipelines/Variant_calling/snpkit_demo/snpkit_demo_results//temp_jobs/SRR6204369.sbat\n",
      "Submitting Job: /scratch/esnitkin_root/esnitkin/apirani/Testing_pipelines/Variant_calling/snpkit_demo/snpkit_demo_results//temp_jobs/SRR6204332.sbat\n",
      "sbatch /scratch/esnitkin_root/esnitkin/apirani/Testing_pipelines/Variant_calling/snpkit_demo/snpkit_demo_results//temp_jobs/SRR6204332.sbat\n",
      "Submitting Job: /scratch/esnitkin_root/esnitkin/apirani/Testing_pipelines/Variant_calling/snpkit_demo/snpkit_demo_results//temp_jobs/SRR6204358.sbat\n",
      "sbatch /scratch/esnitkin_root/esnitkin/apirani/Testing_pipelines/Variant_calling/snpkit_demo/snpkit_demo_results//temp_jobs/SRR6204358.sbat\n",
      "Submitting Job: /scratch/esnitkin_root/esnitkin/apirani/Testing_pipelines/Variant_calling/snpkit_demo/snpkit_demo_results//temp_jobs/SRR6204383.sbat\n",
      "sbatch /scratch/esnitkin_root/esnitkin/apirani/Testing_pipelines/Variant_calling/snpkit_demo/snpkit_demo_results//temp_jobs/SRR6204383.sbat\n",
      "Submitting Job: /scratch/esnitkin_root/esnitkin/apirani/Testing_pipelines/Variant_calling/snpkit_demo/snpkit_demo_results//temp_jobs/SRR6204389.sbat\n",
      "sbatch /scratch/esnitkin_root/esnitkin/apirani/Testing_pipelines/Variant_calling/snpkit_demo/snpkit_demo_results//temp_jobs/SRR6204389.sbat\n",
      "Submitting Job: /scratch/esnitkin_root/esnitkin/apirani/Testing_pipelines/Variant_calling/snpkit_demo/snpkit_demo_results//temp_jobs/SRR6204366.sbat\n",
      "sbatch /scratch/esnitkin_root/esnitkin/apirani/Testing_pipelines/Variant_calling/snpkit_demo/snpkit_demo_results//temp_jobs/SRR6204366.sbat\n",
      "Submitting Job: /scratch/esnitkin_root/esnitkin/apirani/Testing_pipelines/Variant_calling/snpkit_demo/snpkit_demo_results//temp_jobs/SRR6204380.sbat\n",
      "sbatch /scratch/esnitkin_root/esnitkin/apirani/Testing_pipelines/Variant_calling/snpkit_demo/snpkit_demo_results//temp_jobs/SRR6204380.sbat\n",
      "Submitting Job: /scratch/esnitkin_root/esnitkin/apirani/Testing_pipelines/Variant_calling/snpkit_demo/snpkit_demo_results//temp_jobs/SRR6204346.sbat\n",
      "sbatch /scratch/esnitkin_root/esnitkin/apirani/Testing_pipelines/Variant_calling/snpkit_demo/snpkit_demo_results//temp_jobs/SRR6204346.sbat\n",
      "Submitting Job: /scratch/esnitkin_root/esnitkin/apirani/Testing_pipelines/Variant_calling/snpkit_demo/snpkit_demo_results//temp_jobs/SRR6204387.sbat\n",
      "sbatch /scratch/esnitkin_root/esnitkin/apirani/Testing_pipelines/Variant_calling/snpkit_demo/snpkit_demo_results//temp_jobs/SRR6204387.sbat\n",
      "Submitting Job: /scratch/esnitkin_root/esnitkin/apirani/Testing_pipelines/Variant_calling/snpkit_demo/snpkit_demo_results//temp_jobs/SRR6204357.sbat\n",
      "sbatch /scratch/esnitkin_root/esnitkin/apirani/Testing_pipelines/Variant_calling/snpkit_demo/snpkit_demo_results//temp_jobs/SRR6204357.sbat\n",
      "Submitting Job: /scratch/esnitkin_root/esnitkin/apirani/Testing_pipelines/Variant_calling/snpkit_demo/snpkit_demo_results//temp_jobs/SRR6204371.sbat\n",
      "sbatch /scratch/esnitkin_root/esnitkin/apirani/Testing_pipelines/Variant_calling/snpkit_demo/snpkit_demo_results//temp_jobs/SRR6204371.sbat\n",
      "Submitting Job: /scratch/esnitkin_root/esnitkin/apirani/Testing_pipelines/Variant_calling/snpkit_demo/snpkit_demo_results//temp_jobs/SRR6204385.sbat\n",
      "sbatch /scratch/esnitkin_root/esnitkin/apirani/Testing_pipelines/Variant_calling/snpkit_demo/snpkit_demo_results//temp_jobs/SRR6204385.sbat\n",
      "Submitting Job: /scratch/esnitkin_root/esnitkin/apirani/Testing_pipelines/Variant_calling/snpkit_demo/snpkit_demo_results//temp_jobs/SRR6204381.sbat\n",
      "sbatch /scratch/esnitkin_root/esnitkin/apirani/Testing_pipelines/Variant_calling/snpkit_demo/snpkit_demo_results//temp_jobs/SRR6204381.sbat\n",
      "Submitting Job: /scratch/esnitkin_root/esnitkin/apirani/Testing_pipelines/Variant_calling/snpkit_demo/snpkit_demo_results//temp_jobs/SRR6204350.sbat\n",
      "sbatch /scratch/esnitkin_root/esnitkin/apirani/Testing_pipelines/Variant_calling/snpkit_demo/snpkit_demo_results//temp_jobs/SRR6204350.sbat\n",
      "Submitting Job: /scratch/esnitkin_root/esnitkin/apirani/Testing_pipelines/Variant_calling/snpkit_demo/snpkit_demo_results//temp_jobs/SRR6204359.sbat\n",
      "sbatch /scratch/esnitkin_root/esnitkin/apirani/Testing_pipelines/Variant_calling/snpkit_demo/snpkit_demo_results//temp_jobs/SRR6204359.sbat\n",
      "Submitting Job: /scratch/esnitkin_root/esnitkin/apirani/Testing_pipelines/Variant_calling/snpkit_demo/snpkit_demo_results//temp_jobs/SRR6204340.sbat\n",
      "sbatch /scratch/esnitkin_root/esnitkin/apirani/Testing_pipelines/Variant_calling/snpkit_demo/snpkit_demo_results//temp_jobs/SRR6204340.sbat\n",
      "Submitting Job: /scratch/esnitkin_root/esnitkin/apirani/Testing_pipelines/Variant_calling/snpkit_demo/snpkit_demo_results//temp_jobs/SRR6204355.sbat\n",
      "sbatch /scratch/esnitkin_root/esnitkin/apirani/Testing_pipelines/Variant_calling/snpkit_demo/snpkit_demo_results//temp_jobs/SRR6204355.sbat\n",
      "Submitting Job: /scratch/esnitkin_root/esnitkin/apirani/Testing_pipelines/Variant_calling/snpkit_demo/snpkit_demo_results//temp_jobs/SRR6204377.sbat\n",
      "sbatch /scratch/esnitkin_root/esnitkin/apirani/Testing_pipelines/Variant_calling/snpkit_demo/snpkit_demo_results//temp_jobs/SRR6204377.sbat\n",
      "Submitting Job: /scratch/esnitkin_root/esnitkin/apirani/Testing_pipelines/Variant_calling/snpkit_demo/snpkit_demo_results//temp_jobs/SRR6204343.sbat\n",
      "sbatch /scratch/esnitkin_root/esnitkin/apirani/Testing_pipelines/Variant_calling/snpkit_demo/snpkit_demo_results//temp_jobs/SRR6204343.sbat\n",
      "Submitting Job: /scratch/esnitkin_root/esnitkin/apirani/Testing_pipelines/Variant_calling/snpkit_demo/snpkit_demo_results//temp_jobs/SRR6204334.sbat\n",
      "sbatch /scratch/esnitkin_root/esnitkin/apirani/Testing_pipelines/Variant_calling/snpkit_demo/snpkit_demo_results//temp_jobs/SRR6204334.sbat\n",
      "Submitting Job: /scratch/esnitkin_root/esnitkin/apirani/Testing_pipelines/Variant_calling/snpkit_demo/snpkit_demo_results//temp_jobs/SRR6204338.sbat\n",
      "sbatch /scratch/esnitkin_root/esnitkin/apirani/Testing_pipelines/Variant_calling/snpkit_demo/snpkit_demo_results//temp_jobs/SRR6204338.sbat\n",
      "Submitting Job: /scratch/esnitkin_root/esnitkin/apirani/Testing_pipelines/Variant_calling/snpkit_demo/snpkit_demo_results//temp_jobs/SRR6204393.sbat\n",
      "sbatch /scratch/esnitkin_root/esnitkin/apirani/Testing_pipelines/Variant_calling/snpkit_demo/snpkit_demo_results//temp_jobs/SRR6204393.sbat\n",
      "Submitting Job: /scratch/esnitkin_root/esnitkin/apirani/Testing_pipelines/Variant_calling/snpkit_demo/snpkit_demo_results//temp_jobs/SRR6204326.sbat\n",
      "sbatch /scratch/esnitkin_root/esnitkin/apirani/Testing_pipelines/Variant_calling/snpkit_demo/snpkit_demo_results//temp_jobs/SRR6204326.sbat\n",
      "Submitting Job: /scratch/esnitkin_root/esnitkin/apirani/Testing_pipelines/Variant_calling/snpkit_demo/snpkit_demo_results//temp_jobs/SRR6204329.sbat\n",
      "sbatch /scratch/esnitkin_root/esnitkin/apirani/Testing_pipelines/Variant_calling/snpkit_demo/snpkit_demo_results//temp_jobs/SRR6204329.sbat\n",
      "Submitting Job: /scratch/esnitkin_root/esnitkin/apirani/Testing_pipelines/Variant_calling/snpkit_demo/snpkit_demo_results//temp_jobs/SRR6204328.sbat\n",
      "sbatch /scratch/esnitkin_root/esnitkin/apirani/Testing_pipelines/Variant_calling/snpkit_demo/snpkit_demo_results//temp_jobs/SRR6204328.sbat\n",
      "Submitting Job: /scratch/esnitkin_root/esnitkin/apirani/Testing_pipelines/Variant_calling/snpkit_demo/snpkit_demo_results//temp_jobs/SRR6204335.sbat\n",
      "sbatch /scratch/esnitkin_root/esnitkin/apirani/Testing_pipelines/Variant_calling/snpkit_demo/snpkit_demo_results//temp_jobs/SRR6204335.sbat\n",
      "Submitting Job: /scratch/esnitkin_root/esnitkin/apirani/Testing_pipelines/Variant_calling/snpkit_demo/snpkit_demo_results//temp_jobs/SRR6204379.sbat\n",
      "sbatch /scratch/esnitkin_root/esnitkin/apirani/Testing_pipelines/Variant_calling/snpkit_demo/snpkit_demo_results//temp_jobs/SRR6204379.sbat\n",
      "Submitting Job: /scratch/esnitkin_root/esnitkin/apirani/Testing_pipelines/Variant_calling/snpkit_demo/snpkit_demo_results//temp_jobs/SRR6204394.sbat\n",
      "sbatch /scratch/esnitkin_root/esnitkin/apirani/Testing_pipelines/Variant_calling/snpkit_demo/snpkit_demo_results//temp_jobs/SRR6204394.sbat\n",
      "Submitting Job: /scratch/esnitkin_root/esnitkin/apirani/Testing_pipelines/Variant_calling/snpkit_demo/snpkit_demo_results//temp_jobs/SRR6204351.sbat\n",
      "sbatch /scratch/esnitkin_root/esnitkin/apirani/Testing_pipelines/Variant_calling/snpkit_demo/snpkit_demo_results//temp_jobs/SRR6204351.sbat\n",
      "Submitting Job: /scratch/esnitkin_root/esnitkin/apirani/Testing_pipelines/Variant_calling/snpkit_demo/snpkit_demo_results//temp_jobs/SRR6204360.sbat\n",
      "sbatch /scratch/esnitkin_root/esnitkin/apirani/Testing_pipelines/Variant_calling/snpkit_demo/snpkit_demo_results//temp_jobs/SRR6204360.sbat\n",
      "Submitting Job: /scratch/esnitkin_root/esnitkin/apirani/Testing_pipelines/Variant_calling/snpkit_demo/snpkit_demo_results//temp_jobs/SRR6204336.sbat\n",
      "sbatch /scratch/esnitkin_root/esnitkin/apirani/Testing_pipelines/Variant_calling/snpkit_demo/snpkit_demo_results//temp_jobs/SRR6204336.sbat\n",
      "Submitting Job: /scratch/esnitkin_root/esnitkin/apirani/Testing_pipelines/Variant_calling/snpkit_demo/snpkit_demo_results//temp_jobs/SRR6204376.sbat\n",
      "sbatch /scratch/esnitkin_root/esnitkin/apirani/Testing_pipelines/Variant_calling/snpkit_demo/snpkit_demo_results//temp_jobs/SRR6204376.sbat\n",
      "Submitting Job: /scratch/esnitkin_root/esnitkin/apirani/Testing_pipelines/Variant_calling/snpkit_demo/snpkit_demo_results//temp_jobs/SRR6204367.sbat\n",
      "sbatch /scratch/esnitkin_root/esnitkin/apirani/Testing_pipelines/Variant_calling/snpkit_demo/snpkit_demo_results//temp_jobs/SRR6204367.sbat\n",
      "Submitting Job: /scratch/esnitkin_root/esnitkin/apirani/Testing_pipelines/Variant_calling/snpkit_demo/snpkit_demo_results//temp_jobs/SRR6204382.sbat\n",
      "sbatch /scratch/esnitkin_root/esnitkin/apirani/Testing_pipelines/Variant_calling/snpkit_demo/snpkit_demo_results//temp_jobs/SRR6204382.sbat\n",
      "Submitting Job: /scratch/esnitkin_root/esnitkin/apirani/Testing_pipelines/Variant_calling/snpkit_demo/snpkit_demo_results//temp_jobs/SRR6204392.sbat\n",
      "sbatch /scratch/esnitkin_root/esnitkin/apirani/Testing_pipelines/Variant_calling/snpkit_demo/snpkit_demo_results//temp_jobs/SRR6204392.sbat\n",
      "Submitting Job: /scratch/esnitkin_root/esnitkin/apirani/Testing_pipelines/Variant_calling/snpkit_demo/snpkit_demo_results//temp_jobs/SRR6204390.sbat\n",
      "sbatch /scratch/esnitkin_root/esnitkin/apirani/Testing_pipelines/Variant_calling/snpkit_demo/snpkit_demo_results//temp_jobs/SRR6204390.sbat\n",
      "Submitting Job: /scratch/esnitkin_root/esnitkin/apirani/Testing_pipelines/Variant_calling/snpkit_demo/snpkit_demo_results//temp_jobs/SRR6204327.sbat\n",
      "sbatch /scratch/esnitkin_root/esnitkin/apirani/Testing_pipelines/Variant_calling/snpkit_demo/snpkit_demo_results//temp_jobs/SRR6204327.sbat\n",
      "Submitting Job: /scratch/esnitkin_root/esnitkin/apirani/Testing_pipelines/Variant_calling/snpkit_demo/snpkit_demo_results//temp_jobs/SRR6204374.sbat\n",
      "sbatch /scratch/esnitkin_root/esnitkin/apirani/Testing_pipelines/Variant_calling/snpkit_demo/snpkit_demo_results//temp_jobs/SRR6204374.sbat\n",
      "Submitting Job: /scratch/esnitkin_root/esnitkin/apirani/Testing_pipelines/Variant_calling/snpkit_demo/snpkit_demo_results//temp_jobs/SRR6204342.sbat\n",
      "sbatch /scratch/esnitkin_root/esnitkin/apirani/Testing_pipelines/Variant_calling/snpkit_demo/snpkit_demo_results//temp_jobs/SRR6204342.sbat\n",
      "Submitting Job: /scratch/esnitkin_root/esnitkin/apirani/Testing_pipelines/Variant_calling/snpkit_demo/snpkit_demo_results//temp_jobs/SRR6204388.sbat\n",
      "sbatch /scratch/esnitkin_root/esnitkin/apirani/Testing_pipelines/Variant_calling/snpkit_demo/snpkit_demo_results//temp_jobs/SRR6204388.sbat\n",
      "Submitting Job: /scratch/esnitkin_root/esnitkin/apirani/Testing_pipelines/Variant_calling/snpkit_demo/snpkit_demo_results//temp_jobs/SRR6204356.sbat\n",
      "sbatch /scratch/esnitkin_root/esnitkin/apirani/Testing_pipelines/Variant_calling/snpkit_demo/snpkit_demo_results//temp_jobs/SRR6204356.sbat\n",
      "Submitting Job: /scratch/esnitkin_root/esnitkin/apirani/Testing_pipelines/Variant_calling/snpkit_demo/snpkit_demo_results//temp_jobs/SRR6204370.sbat\n",
      "sbatch /scratch/esnitkin_root/esnitkin/apirani/Testing_pipelines/Variant_calling/snpkit_demo/snpkit_demo_results//temp_jobs/SRR6204370.sbat\n",
      "Submitting Job: /scratch/esnitkin_root/esnitkin/apirani/Testing_pipelines/Variant_calling/snpkit_demo/snpkit_demo_results//temp_jobs/SRR6204368.sbat\n",
      "sbatch /scratch/esnitkin_root/esnitkin/apirani/Testing_pipelines/Variant_calling/snpkit_demo/snpkit_demo_results//temp_jobs/SRR6204368.sbat\n",
      "Submitting Job: /scratch/esnitkin_root/esnitkin/apirani/Testing_pipelines/Variant_calling/snpkit_demo/snpkit_demo_results//temp_jobs/SRR6204363.sbat\n",
      "sbatch /scratch/esnitkin_root/esnitkin/apirani/Testing_pipelines/Variant_calling/snpkit_demo/snpkit_demo_results//temp_jobs/SRR6204363.sbat\n",
      "Submitting Job: /scratch/esnitkin_root/esnitkin/apirani/Testing_pipelines/Variant_calling/snpkit_demo/snpkit_demo_results//temp_jobs/SRR6204361.sbat\n",
      "sbatch /scratch/esnitkin_root/esnitkin/apirani/Testing_pipelines/Variant_calling/snpkit_demo/snpkit_demo_results//temp_jobs/SRR6204361.sbat\n",
      "Submitting Job: /scratch/esnitkin_root/esnitkin/apirani/Testing_pipelines/Variant_calling/snpkit_demo/snpkit_demo_results//temp_jobs/SRR6204362.sbat\n",
      "sbatch /scratch/esnitkin_root/esnitkin/apirani/Testing_pipelines/Variant_calling/snpkit_demo/snpkit_demo_results//temp_jobs/SRR6204362.sbat\n",
      "Submitting Job: /scratch/esnitkin_root/esnitkin/apirani/Testing_pipelines/Variant_calling/snpkit_demo/snpkit_demo_results//temp_jobs/SRR6204349.sbat\n",
      "sbatch /scratch/esnitkin_root/esnitkin/apirani/Testing_pipelines/Variant_calling/snpkit_demo/snpkit_demo_results//temp_jobs/SRR6204349.sbat\n",
      "Submitting Job: /scratch/esnitkin_root/esnitkin/apirani/Testing_pipelines/Variant_calling/snpkit_demo/snpkit_demo_results//temp_jobs/SRR6204339.sbat\n",
      "sbatch /scratch/esnitkin_root/esnitkin/apirani/Testing_pipelines/Variant_calling/snpkit_demo/snpkit_demo_results//temp_jobs/SRR6204339.sbat\n",
      "Submitting Job: /scratch/esnitkin_root/esnitkin/apirani/Testing_pipelines/Variant_calling/snpkit_demo/snpkit_demo_results//temp_jobs/SRR6204365.sbat\n",
      "sbatch /scratch/esnitkin_root/esnitkin/apirani/Testing_pipelines/Variant_calling/snpkit_demo/snpkit_demo_results//temp_jobs/SRR6204365.sbat\n",
      "Submitting Job: /scratch/esnitkin_root/esnitkin/apirani/Testing_pipelines/Variant_calling/snpkit_demo/snpkit_demo_results//temp_jobs/SRR6204384.sbat\n",
      "sbatch /scratch/esnitkin_root/esnitkin/apirani/Testing_pipelines/Variant_calling/snpkit_demo/snpkit_demo_results//temp_jobs/SRR6204384.sbat\n",
      "Submitting Job: /scratch/esnitkin_root/esnitkin/apirani/Testing_pipelines/Variant_calling/snpkit_demo/snpkit_demo_results//temp_jobs/SRR6204378.sbat\n",
      "sbatch /scratch/esnitkin_root/esnitkin/apirani/Testing_pipelines/Variant_calling/snpkit_demo/snpkit_demo_results//temp_jobs/SRR6204378.sbat\n",
      "Submitting Job: /scratch/esnitkin_root/esnitkin/apirani/Testing_pipelines/Variant_calling/snpkit_demo/snpkit_demo_results//temp_jobs/SRR6204375.sbat\n",
      "sbatch /scratch/esnitkin_root/esnitkin/apirani/Testing_pipelines/Variant_calling/snpkit_demo/snpkit_demo_results//temp_jobs/SRR6204375.sbat\n",
      "Submitting Job: /scratch/esnitkin_root/esnitkin/apirani/Testing_pipelines/Variant_calling/snpkit_demo/snpkit_demo_results//temp_jobs/SRR6204352.sbat\n",
      "sbatch /scratch/esnitkin_root/esnitkin/apirani/Testing_pipelines/Variant_calling/snpkit_demo/snpkit_demo_results//temp_jobs/SRR6204352.sbat\n",
      "Submitting Job: /scratch/esnitkin_root/esnitkin/apirani/Testing_pipelines/Variant_calling/snpkit_demo/snpkit_demo_results//temp_jobs/SRR6204331.sbat\n",
      "sbatch /scratch/esnitkin_root/esnitkin/apirani/Testing_pipelines/Variant_calling/snpkit_demo/snpkit_demo_results//temp_jobs/SRR6204331.sbat\n",
      "Submitting Job: /scratch/esnitkin_root/esnitkin/apirani/Testing_pipelines/Variant_calling/snpkit_demo/snpkit_demo_results//temp_jobs/SRR6204341.sbat\n",
      "sbatch /scratch/esnitkin_root/esnitkin/apirani/Testing_pipelines/Variant_calling/snpkit_demo/snpkit_demo_results//temp_jobs/SRR6204341.sbat\n",
      "Submitting Job: /scratch/esnitkin_root/esnitkin/apirani/Testing_pipelines/Variant_calling/snpkit_demo/snpkit_demo_results//temp_jobs/SRR6204337.sbat\n",
      "sbatch /scratch/esnitkin_root/esnitkin/apirani/Testing_pipelines/Variant_calling/snpkit_demo/snpkit_demo_results//temp_jobs/SRR6204337.sbat\n",
      "Submitting Job: /scratch/esnitkin_root/esnitkin/apirani/Testing_pipelines/Variant_calling/snpkit_demo/snpkit_demo_results//temp_jobs/SRR6204354.sbat\n",
      "sbatch /scratch/esnitkin_root/esnitkin/apirani/Testing_pipelines/Variant_calling/snpkit_demo/snpkit_demo_results//temp_jobs/SRR6204354.sbat\n",
      "Submitting Job: /scratch/esnitkin_root/esnitkin/apirani/Testing_pipelines/Variant_calling/snpkit_demo/snpkit_demo_results//temp_jobs/SRR6204364.sbat\n",
      "sbatch /scratch/esnitkin_root/esnitkin/apirani/Testing_pipelines/Variant_calling/snpkit_demo/snpkit_demo_results//temp_jobs/SRR6204364.sbat\n",
      "Submitting Job: /scratch/esnitkin_root/esnitkin/apirani/Testing_pipelines/Variant_calling/snpkit_demo/snpkit_demo_results//temp_jobs/SRR6204333.sbat\n",
      "sbatch /scratch/esnitkin_root/esnitkin/apirani/Testing_pipelines/Variant_calling/snpkit_demo/snpkit_demo_results//temp_jobs/SRR6204333.sbat\n",
      "Logs were recorded in file with extension log.txt in /scratch/esnitkin_root/esnitkin/apirani/Testing_pipelines/Variant_calling/snpkit_demo/snpkit_demo_results//Logs/variant_calling\n",
      "Total Time taken: 0:00:02.631066\n",
      "End: Variant calling Pipeline\n",
      "(snpkit) "
     ]
    },
    {
     "ename": "",
     "evalue": "1",
     "output_type": "error",
     "traceback": []
    }
   ],
   "source": [
    "python snpkit/snpkit.py -type PE -readsdir /scratch/esnitkin_root/esnitkin/apirani/Testing_pipelines/Variant_calling/snpkit_demo/ -index KPNIH1 -steps All -analysis snpkit_demo -outdir /scratch/esnitkin_root/esnitkin/apirani/Testing_pipelines/Variant_calling/snpkit_demo/snpkit_demo_results -cluster cluster -clean -scheduler SLURM"
   ]
  },
  {
   "cell_type": "code",
   "execution_count": null,
   "id": "703c6999-e176-4e5a-bdfd-b5ee6c3cf6c6",
   "metadata": {},
   "outputs": [],
   "source": []
  }
 ],
 "metadata": {
  "kernelspec": {
   "display_name": "Bash",
   "language": "bash",
   "name": "bash"
  },
  "language_info": {
   "codemirror_mode": "shell",
   "file_extension": ".sh",
   "mimetype": "text/x-sh",
   "name": "bash"
  }
 },
 "nbformat": 4,
 "nbformat_minor": 5
}
