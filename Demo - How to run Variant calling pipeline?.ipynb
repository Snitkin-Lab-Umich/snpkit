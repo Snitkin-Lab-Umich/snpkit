{
 "cells": [
  {
   "cell_type": "code",
   "execution_count": 12,
   "metadata": {},
   "outputs": [
    {
     "data": {
      "text/html": [
       "<div style=\"text-align:center;background:#9999ff;padding:60px;color:#ffffff;font-size:2em;\"></div>"
      ],
      "text/plain": [
       "<IPython.core.display.HTML object>"
      ]
     },
     "execution_count": 12,
     "metadata": {},
     "output_type": "execute_result"
    }
   ],
   "source": [
    "from IPython.display import HTML\n",
    "def new_section(title):\n",
    "    style = \"text-align:center;background:#9999ff;padding:60px;color:#ffffff;font-size:2em;\"\n",
    "    return HTML('<div style=\"{}\">{}</div>'.format(style, title))\n",
    "new_section(\"\")"
   ]
  },
  {
   "cell_type": "markdown",
   "metadata": {},
   "source": [
    "This is a quick demo of how to run variant calling pipeline on a test dataset. The raw test dataset for this exercise can be found in:\n",
    "\n",
    "\n",
    "```\n",
    "/nfs/esnitkin/bin_group/variant_calling_bin/test_data\n",
    "```"
   ]
  },
  {
   "cell_type": "code",
   "execution_count": 13,
   "metadata": {},
   "outputs": [
    {
     "name": "stdout",
     "output_type": "stream",
     "text": [
      "/nfs/esnitkin/bin_group/variant_calling_bin/test_data/MRSA_jail_100_R1.fastq.gz\r\n",
      "/nfs/esnitkin/bin_group/variant_calling_bin/test_data/MRSA_jail_10_R1.fastq.gz\r\n",
      "/nfs/esnitkin/bin_group/variant_calling_bin/test_data/MRSA_jail_1_R1.fastq.gz\r\n"
     ]
    }
   ],
   "source": [
    "% ls -1a /nfs/esnitkin/bin_group/variant_calling_bin/test_data/*_R1.fastq.gz"
   ]
  },
  {
   "cell_type": "markdown",
   "metadata": {},
   "source": [
    "Step 1: \n",
    "\n",
    "We will call variants on all sets of PE reads in test_data folder. The script will detect the file extension of fastq file, generate individual job for each sample in test_data folder and submit these cluster jobs. Make sure to provide upur own config file that contains your user specific PBS values and tool parameters."
   ]
  },
  {
   "cell_type": "code",
   "execution_count": 12,
   "metadata": {},
   "outputs": [
    {
     "name": "stdout",
     "output_type": "stream",
     "text": [
      "START: Variant Calling Pipeline\n",
      "Generating cluster jobs in temporary directory /nfs/esnitkin/bin_group/variant_calling_bin/test_output//temp_jobs\n",
      "Running Jobs in parallel-cluster mode\n",
      "Submitting Job: qsub /nfs/esnitkin/bin_group/variant_calling_bin/test_output//temp_jobs/MRSA_jail_100.pbs\n",
      "Submitting Job: qsub /nfs/esnitkin/bin_group/variant_calling_bin/test_output//temp_jobs/MRSA_jail_10.pbs\n",
      "Submitting Job: qsub /nfs/esnitkin/bin_group/variant_calling_bin/test_output//temp_jobs/MRSA_jail_1.pbs\n",
      "You can check the job status with: qstat -u USERNAME\n",
      "Logs were recorded in file with extension log.txt in /nfs/esnitkin/bin_group/variant_calling_bin/test_output//Logs/variant_calling\n",
      "Total Time taken: 0:00:00.271331\n",
      "End: Variant calling Pipeline\n"
     ]
    }
   ],
   "source": [
    "! /nfs/esnitkin/bin_group/anaconda2/bin//python /nfs/esnitkin/bin_group/pipeline/Github/variant_calling_pipeline/variant_call.py -type PE -readsdir /nfs/esnitkin/bin_group/variant_calling_bin/test_data/ -outdir /nfs/esnitkin/bin_group/variant_calling_bin/test_output -analysis test_results -index MRSA_USA_300 -steps All -cluster parallel-cluster -config /nfs/esnitkin/bin_group/pipeline/Github/variant_calling_pipeline/config_ali"
   ]
  },
  {
   "cell_type": "markdown",
   "metadata": {},
   "source": [
    "Step 2: \n",
    "\n",
    "When all the submitted jobs are completed, you can move on to the next step of the analysis i.e core_prep. Run the same command with core_prep as your -steps argument"
   ]
  },
  {
   "cell_type": "code",
   "execution_count": 1,
   "metadata": {},
   "outputs": [
    {
     "name": "stdout",
     "output_type": "stream",
     "text": [
      "START: Extract core snps and generate diagnostic plots\n",
      "Copying vcf files to /nfs/esnitkin/bin_group/variant_calling_bin/test_output//core_temp_dir/\n",
      "Decompressing gzipped files in /nfs/esnitkin/bin_group/variant_calling_bin/test_output//core_temp_dir/\n",
      "Running command: gzip -df /nfs/esnitkin/bin_group/variant_calling_bin/test_output//core_temp_dir/MRSA_jail_100_aln_mpileup_raw.vcf_5bp_indel_removed.vcf.gz\n",
      "Running command: gzip -df /nfs/esnitkin/bin_group/variant_calling_bin/test_output//core_temp_dir/MRSA_jail_10_aln_mpileup_raw.vcf_5bp_indel_removed.vcf.gz\n",
      "Running command: gzip -df /nfs/esnitkin/bin_group/variant_calling_bin/test_output//core_temp_dir/MRSA_jail_1_aln_mpileup_raw.vcf_5bp_indel_removed.vcf.gz\n",
      "Running command: gzip -df /nfs/esnitkin/bin_group/variant_calling_bin/test_output//core_temp_dir/MRSA_jail_100_filter2_final.vcf.gz\n",
      "Running command: gzip -df /nfs/esnitkin/bin_group/variant_calling_bin/test_output//core_temp_dir/MRSA_jail_10_filter2_final.vcf.gz\n",
      "Running command: gzip -df /nfs/esnitkin/bin_group/variant_calling_bin/test_output//core_temp_dir/MRSA_jail_1_filter2_final.vcf.gz\n",
      "Running command: gzip -df /nfs/esnitkin/bin_group/variant_calling_bin/test_output//core_temp_dir/MRSA_jail_100_filter2_final.vcf_no_proximate_snp.vcf.gz\n",
      "Running command: gzip -df /nfs/esnitkin/bin_group/variant_calling_bin/test_output//core_temp_dir/MRSA_jail_10_filter2_final.vcf_no_proximate_snp.vcf.gz\n",
      "Running command: gzip -df /nfs/esnitkin/bin_group/variant_calling_bin/test_output//core_temp_dir/MRSA_jail_1_filter2_final.vcf_no_proximate_snp.vcf.gz\n",
      "Submitting parallel-cluster Job: qsub /nfs/esnitkin/bin_group/variant_calling_bin/test_output//core_temp_dir//2018_04_26_11_17_50_test_results.pbs\n",
      "28934701\n",
      "You can check the job status with: qstat -u USERNAME\n",
      "Logs were recorded in file with extension log.txt in /nfs/esnitkin/bin_group/variant_calling_bin/test_output//Logs/core_prep\n",
      "Total Time taken: 0:00:02.039515\n"
     ]
    }
   ],
   "source": [
    "! /nfs/esnitkin/bin_group/anaconda2/bin//python /nfs/esnitkin/bin_group/pipeline/Github/variant_calling_pipeline/variant_call.py -type PE -readsdir /nfs/esnitkin/bin_group/variant_calling_bin/test_data/ -outdir /nfs/esnitkin/bin_group/variant_calling_bin/test_output -analysis test_results -index MRSA_USA_300 -steps core_prep -cluster parallel-cluster -config /nfs/esnitkin/bin_group/pipeline/Github/variant_calling_pipeline/config_ali"
   ]
  },
  {
   "cell_type": "markdown",
   "metadata": {},
   "source": [
    "Step 3:\n",
    "\n",
    "This step will take all the intermediate files generated during the core_prep step and generate the core SNPs and various diagnostics plot related data matrices."
   ]
  },
  {
   "cell_type": "code",
   "execution_count": 2,
   "metadata": {},
   "outputs": [
    {
     "name": "stdout",
     "output_type": "stream",
     "text": [
      "START: Extract core snps and generate diagnostic plots\n",
      "Logs were recorded in file with extension log.txt in /nfs/esnitkin/bin_group/variant_calling_bin/test_output//Logs/core\n",
      "Total Time taken: 0:12:02.726169\n"
     ]
    }
   ],
   "source": [
    "! /nfs/esnitkin/bin_group/anaconda2/bin//python /nfs/esnitkin/bin_group/pipeline/Github/variant_calling_pipeline/variant_call.py -type PE -readsdir /nfs/esnitkin/bin_group/variant_calling_bin/test_data/ -outdir /nfs/esnitkin/bin_group/variant_calling_bin/test_output -analysis test_results -index MRSA_USA_300 -steps core -cluster parallel-cluster -config /nfs/esnitkin/bin_group/pipeline/Github/variant_calling_pipeline/config_ali"
   ]
  },
  {
   "cell_type": "markdown",
   "metadata": {},
   "source": [
    "Step 4:\n",
    "    \n",
    "Generate the pipeline report and transfer the final results to a *_core_results folder arranged in a more organized manner.  "
   ]
  },
  {
   "cell_type": "code",
   "execution_count": 3,
   "metadata": {},
   "outputs": [
    {
     "name": "stdout",
     "output_type": "stream",
     "text": [
      "START: Generating alignment and variant calling report\n",
      "/nfs/esnitkin/bin_group/variant_calling_bin/test_output//2018_04_26_11_23_59_core_results\n",
      "Logs were recorded in file with extension log.txt in /nfs/esnitkin/bin_group/variant_calling_bin/test_output//Logs/report\n",
      "Total Time taken: 0:00:04.932519\n"
     ]
    }
   ],
   "source": [
    "! /nfs/esnitkin/bin_group/anaconda2/bin//python /nfs/esnitkin/bin_group/pipeline/Github/variant_calling_pipeline/variant_call.py -type PE -readsdir /nfs/esnitkin/bin_group/variant_calling_bin/test_data/ -outdir /nfs/esnitkin/bin_group/variant_calling_bin/test_output -analysis test_results -index MRSA_USA_300 -steps report -cluster parallel-local -config /nfs/esnitkin/bin_group/pipeline/Github/variant_calling_pipeline/config_ali"
   ]
  },
  {
   "cell_type": "markdown",
   "metadata": {},
   "source": [
    "All the final results and reports will be tranferred and arranged in:\n",
    "\n",
    "/nfs/esnitkin/bin_group/variant_calling_bin/test_output//2018_04_26_11_23_59_core_results"
   ]
  },
  {
   "cell_type": "code",
   "execution_count": 5,
   "metadata": {},
   "outputs": [
    {
     "name": "stdout",
     "output_type": "stream",
     "text": [
      ".\r\n",
      "..\r\n",
      "core_snp_consensus\r\n",
      "data_matrix\r\n"
     ]
    }
   ],
   "source": [
    "! ls -1a /nfs/esnitkin/bin_group/variant_calling_bin/test_output/2018_04_26_11_23_59_core_results/"
   ]
  },
  {
   "cell_type": "code",
   "execution_count": 6,
   "metadata": {},
   "outputs": [
    {
     "name": "stdout",
     "output_type": "stream",
     "text": [
      ".\r\n",
      "..\r\n",
      "consensus_ref_variant_positions\r\n",
      "consensus_variant_positions\r\n",
      "MRSA_jail_100_filter2_final.vcf_core.vcf.gz\r\n",
      "MRSA_jail_10_filter2_final.vcf_core.vcf.gz\r\n",
      "MRSA_jail_1_filter2_final.vcf_core.vcf.gz\r\n"
     ]
    }
   ],
   "source": [
    "! ls -1a /nfs/esnitkin/bin_group/variant_calling_bin/test_output/2018_04_26_11_23_59_core_results/core_snp_consensus/"
   ]
  },
  {
   "cell_type": "markdown",
   "metadata": {},
   "source": [
    "core_snp_consensus folder will contain core variant vcf files and consesnsus variants in fasta format. consensus_ref_variant_positions will contain core variants as well as reference allele which can be used as an input for Gubbins. \n",
    "consensus_variant_positions will contain only core variants in fasta format that can be used for Beast and Fasttree analysis."
   ]
  },
  {
   "cell_type": "code",
   "execution_count": 7,
   "metadata": {},
   "outputs": [
    {
     "name": "stdout",
     "output_type": "stream",
     "text": [
      ".\r\n",
      "..\r\n",
      "MRSA_jail_100.fa\r\n",
      "MRSA_jail_10.fa\r\n",
      "MRSA_jail_1.fa\r\n"
     ]
    }
   ],
   "source": [
    "! ls -1a /nfs/esnitkin/bin_group/variant_calling_bin/test_output/2018_04_26_11_23_59_core_results/core_snp_consensus/consensus_ref_variant_positions"
   ]
  },
  {
   "cell_type": "code",
   "execution_count": 8,
   "metadata": {},
   "outputs": [
    {
     "name": "stdout",
     "output_type": "stream",
     "text": [
      ".\r\n",
      "..\r\n",
      "MRSA_jail_100_variants.fa\r\n",
      "MRSA_jail_10_variants.fa\r\n",
      "MRSA_jail_1_variants.fa\r\n",
      "MRSA_USA_300_variants.fa\r\n"
     ]
    }
   ],
   "source": [
    "! ls -1a /nfs/esnitkin/bin_group/variant_calling_bin/test_output/2018_04_26_11_23_59_core_results/core_snp_consensus/consensus_variant_positions"
   ]
  },
  {
   "cell_type": "markdown",
   "metadata": {},
   "source": [
    "As the name suggests, data_matrix contains all the matrices that were used for generating the core variants and which can be used for plotting various diagnostics plots."
   ]
  },
  {
   "cell_type": "code",
   "execution_count": 10,
   "metadata": {},
   "outputs": [
    {
     "name": "stdout",
     "output_type": "stream",
     "text": [
      ".\r\n",
      "..\r\n",
      "2018_04_26_11_22_59_step_1.log.txt\r\n",
      "2018_04_26_11_24_09_step_2.log.txt\r\n",
      "2018_04_26_11_47_10_step_3.log.txt\r\n",
      "matrices\r\n",
      "Reports\r\n",
      "snpeff_reports\r\n"
     ]
    }
   ],
   "source": [
    "! ls -1a /nfs/esnitkin/bin_group/variant_calling_bin/test_output/2018_04_26_11_23_59_core_results/data_matrix/"
   ]
  },
  {
   "cell_type": "markdown",
   "metadata": {},
   "source": [
    "matrices contain all the diagnostic plot related data. Reports folder contain a concise variants report of variants found in each sample, alignments related information and SNP/Indel matrix. snpeff_reports contain annotation report generated by snpEFF."
   ]
  },
  {
   "cell_type": "markdown",
   "metadata": {},
   "source": [
    "Lets plot some diagnostics plots that can use to troubleshoot variant calling pipeline.\n"
   ]
  },
  {
   "cell_type": "code",
   "execution_count": 11,
   "metadata": {},
   "outputs": [],
   "source": [
    "! module load R"
   ]
  },
  {
   "cell_type": "code",
   "execution_count": 17,
   "metadata": {},
   "outputs": [
    {
     "name": "stdout",
     "output_type": "stream",
     "text": [
      "/nfs/esnitkin/bin_group/variant_calling_bin/test_output/2018_04_26_11_23_59_core_results/data_matrix/matrices\n"
     ]
    }
   ],
   "source": [
    "%cd /nfs/esnitkin/bin_group/variant_calling_bin/test_output/2018_04_26_11_23_59_core_results/data_matrix/matrices/"
   ]
  },
  {
   "cell_type": "code",
   "execution_count": 44,
   "metadata": {},
   "outputs": [
    {
     "name": "stdout",
     "output_type": "stream",
     "text": [
      "null device \r\n",
      "          1 \r\n"
     ]
    }
   ],
   "source": [
    "! Rscript bargraph.R"
   ]
  },
  {
   "cell_type": "markdown",
   "metadata": {},
   "source": [
    "This will generate a barplot.png file showing the distribution of each variant filters on the final variants."
   ]
  },
  {
   "cell_type": "code",
   "execution_count": 45,
   "metadata": {},
   "outputs": [
    {
     "data": {
      "image/png": "[encoded data removed]",
      "text/plain": [
       "<IPython.core.display.Image object>"
      ]
     },
     "execution_count": 45,
     "metadata": {},
     "output_type": "execute_result"
    }
   ],
   "source": [
    "from IPython.display import Image\n",
    "fig = Image(filename=('./barplot.png'))\n",
    "fig"
   ]
  },
  {
   "cell_type": "code",
   "execution_count": null,
   "metadata": {},
   "outputs": [],
   "source": []
  }
 ],
 "metadata": {
  "kernelspec": {
   "display_name": "Python 2",
   "language": "python",
   "name": "python2"
  },
  "language_info": {
   "codemirror_mode": {
    "name": "ipython",
    "version": 3
   },
   "file_extension": ".py",
   "mimetype": "text/x-python",
   "name": "python",
   "nbconvert_exporter": "python",
   "pygments_lexer": "ipython3",
   "version": "3.5.4"
  }
 },
 "nbformat": 4,
 "nbformat_minor": 2
}
